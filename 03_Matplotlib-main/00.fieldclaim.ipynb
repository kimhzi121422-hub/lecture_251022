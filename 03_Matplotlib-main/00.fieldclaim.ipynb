{
 "cells": [
  {
   "cell_type": "code",
   "execution_count": 7,
   "id": "61a43681",
   "metadata": {},
   "outputs": [
    {
     "ename": "IndentationError",
     "evalue": "unexpected indent (3903914701.py, line 38)",
     "output_type": "error",
     "traceback": [
      "  \u001b[36mCell\u001b[39m\u001b[36m \u001b[39m\u001b[32mIn[7]\u001b[39m\u001b[32m, line 38\u001b[39m\n\u001b[31m    \u001b[39m\u001b[31mstart_time = time.time()\u001b[39m\n    ^\n\u001b[31mIndentationError\u001b[39m\u001b[31m:\u001b[39m unexpected indent\n"
     ]
    }
   ],
   "source": [
    "import pandas as pd\n",
    "import numpy as np\n",
    "import time\n",
    "\n",
    "# 1. 원본 필드데이터 갖고오기 \n",
    "start_time = time.time() \n",
    "df = pd.read_excel('data/field.xlsx')\n",
    "\n",
    "# 1-1.NaN만 있는 열 제거 / 열 이름 모든 공백 제거\n",
    "df = df.dropna(axis=1, how='all') \n",
    "df.columns = df.columns.str.replace(' ', '').str.replace('\\n','',regex=True).str.replace('\\r','',regex=True)\n",
    "#-------------------------------------------------------------------------------------------------------------------------------\n",
    "# 2.'엔진번호/엔진생산일.csv 파워쿼리 데이터' 가져오기\n",
    "\n",
    "### 2-1) '엔진생산일' 열 에서 NaN일때 '엔진번호/엔진생산일 파워쿼리 데이터'의 값으로 채우기\n",
    "\n",
    "# 엔진생산일이 NaN인 위치\n",
    "mask = df['엔진생산일'].isna()\n",
    "### 2-2) '엔진생산일'이 NaN일 때 '생산년월일'의 값으로 채우기\n",
    "df['엔진생산일'] = df['엔진생산일'].fillna(df['생산년월일'])\n",
    "# '생산년월일' 값에서 '/' 제거 (YYYY/MM/DD → YYYYMMDD)\n",
    "df.loc[mask, '엔진생산일'] = df.loc[mask, '생산년월일'].str.replace('/', '')\n",
    "\n",
    "### >>> '엔진생산일' 정수화 작업 추가!\n",
    "#df['엔진생산일'] = pd.to_numeric(df['엔진생산일'], errors='coerce').astype('Int64')\n",
    "#-------------------------------------------------------------------------------------------------------------------------------\n",
    "\n",
    "# 3.'엔진생산월' 열 추가 (YYYY/MM 형태)\n",
    "df['엔진생산월'] = df['엔진생산일'].astype(str).str.slice(0,6).apply(\n",
    "    lambda x: f\"{x[:4]}/{x[4:6]}\" if len(x) == 6 and x.isdigit() else '')\n",
    "\n",
    "end_time = time.time()            # 종료 시간 저장\n",
    "print(f\"소요 시간: {end_time - start_time:.2f}초\")\n",
    "\n",
    "#-------------------------------------------------------------------------------------------------------------------------------\n",
    "# 4. 품번 기준 '품명수정' 열 추가\n",
    "  # 품번을 기준으로 품명수정 열 붙이기\n",
    "  start_time = time.time() \n",
    "component_df = pd.read_excel('data/component.xlsx')  # 품번, 품명수정 포함\n",
    "  # component.xlsx의 열 이름 공백도 정리하세요!\n",
    "component_df.columns = component_df.columns.str.replace(' ', '')\n",
    "\n",
    "  # 품번 기준 merge (left join)\n",
    "df.set_index('부품번호', inplace=True)\n",
    "component_df.set_index('부품번호', inplace=True)\n",
    "df = df.join(component_df[['품명수정']])\n",
    "df.reset_index(inplace=True)\n",
    "end_time = time.time()            # 종료 시간 저장\n",
    "print(f\"소요 시간: {end_time - start_time:.2f}초\")\n",
    "#-------------------------------------------------------------------------------------------------------------------------------\n",
    "# 5. '엔진기종' 열 추가\n",
    "\n",
    "# engine_type 데이터 불러오기\n",
    "engine_type_df = pd.read_excel('data/engine_type.xlsx')  # 엔진4자리, 엔진기종 포함\n",
    "# 열 이름 공백도 정리\n",
    "engine_type_df.columns = engine_type_df.columns.str.replace(' ', '')\n",
    "# 원본에서 엔진번호 앞 4자리 추출\n",
    "df['엔진4자리'] = df['엔진넘버'].astype(str).str.slice(0, 4)\n",
    "# 앞4자리 기준 merge (left join)\n",
    "df = df.merge(engine_type_df[['엔진4자리','엔진기종']], on='엔진4자리', how='left')\n",
    "\n",
    "###print(df.columns)\n",
    "###print(df[['품명수정','엔진기종']].head())\n",
    "#-------------------------------------------------------------------------------------------------------------------------------\n",
    "#6.중복값 제거\n",
    "###6-1. 'RO번호', '차대번호', '총주행거리(Km)'를 합쳐서 중복확인 열 만들기\n",
    "df['중복확인'] = df['RO번호'].astype(str) + '_' + df['차대번호'].astype(str) + '_' + df['총주행거리(Km)'].astype(str)\n",
    "##6-2. '중복확인' 컬럼 기준, 중복값이 있는(즉 2개 이상인) 행 전부 삭제\n",
    "df = df[~df.duplicated('중복확인', keep='first')]\n",
    "##6-3. 필요하면 중복확인 열 제거 (선택)\n",
    "# df = df.drop('중복확인', axis=1)\n",
    "# 중복값 남았는지 확인. 중복없으면 False\n",
    "print((df['중복확인'].value_counts() > 1).any())\n",
    "#-------------------------------------------------------------------------------------------------------------------------------\n",
    "\n",
    "df.to_excel('data/field_final.xlsx', index=False)\n"
   ]
  },
  {
   "cell_type": "code",
   "execution_count": null,
   "id": "78b99d00",
   "metadata": {},
   "outputs": [],
   "source": []
  }
 ],
 "metadata": {
  "kernelspec": {
   "display_name": "HDWIA",
   "language": "python",
   "name": "python3"
  },
  "language_info": {
   "codemirror_mode": {
    "name": "ipython",
    "version": 3
   },
   "file_extension": ".py",
   "mimetype": "text/x-python",
   "name": "python",
   "nbconvert_exporter": "python",
   "pygments_lexer": "ipython3",
   "version": "3.12.12"
  }
 },
 "nbformat": 4,
 "nbformat_minor": 5
}
