{
    "cells": [
        {
            "cell_type": "markdown",
            "metadata": {},
            "source": [
                "# 16. 여러 그래프 배치하기\n",
                "---\n",
                "### 서브플롯 (Subplots)\n",
                "- 하나의 Figure에 여러 개의 그래프를 배치할 수 있다.\n",
                "- 다양한 관점에서 데이터를 동시에 비교할 수 있다.\n"
            ]
        },
        {
            "cell_type": "code",
            "execution_count": 1,
            "metadata": {},
            "outputs": [],
            "source": [
                "import pandas as pd\n",
                "import matplotlib.pyplot as plt\n",
                "import matplotlib\n",
                "\n",
                "matplotlib.rcParams['font.family'] = 'Malgun Gothic' # 한글 폰트 설정\n",
                "# matplotlib.rcParams['font.family'] = 'AppleGothic' # Mac 사용자\n",
                "matplotlib.rcParams['font.size'] = 15 # 폰트 크기 설정\n",
                "matplotlib.rcParams['axes.unicode_minus'] = False # 마이너스 기호 깨짐 방지\n"
            ]
        },
        {
            "cell_type": "markdown",
            "metadata": {},
            "source": [
                "## 데이터 준비\n",
                "### 고객 데이터 불러오기\n"
            ]
        },
        {
            "cell_type": "code",
            "execution_count": 2,
            "metadata": {},
            "outputs": [
                {
                    "data": {
                        "text/html": [
                            "<div>\n",
                            "<style scoped>\n",
                            "    .dataframe tbody tr th:only-of-type {\n",
                            "        vertical-align: middle;\n",
                            "    }\n",
                            "\n",
                            "    .dataframe tbody tr th {\n",
                            "        vertical-align: top;\n",
                            "    }\n",
                            "\n",
                            "    .dataframe thead th {\n",
                            "        text-align: right;\n",
                            "    }\n",
                            "</style>\n",
                            "<table border=\"1\" class=\"dataframe\">\n",
                            "  <thead>\n",
                            "    <tr style=\"text-align: right;\">\n",
                            "      <th></th>\n",
                            "      <th>고객ID</th>\n",
                            "      <th>고객명</th>\n",
                            "      <th>나이</th>\n",
                            "      <th>거주도시</th>\n",
                            "      <th>주요관심사</th>\n",
                            "      <th>최근1년_방문빈도</th>\n",
                            "      <th>평균구매액(만원)</th>\n",
                            "      <th>고객만족도(점)</th>\n",
                            "      <th>재구매의사(점)</th>\n",
                            "    </tr>\n",
                            "  </thead>\n",
                            "  <tbody>\n",
                            "    <tr>\n",
                            "      <th>0</th>\n",
                            "      <td>C001</td>\n",
                            "      <td>박태근</td>\n",
                            "      <td>35</td>\n",
                            "      <td>시흥</td>\n",
                            "      <td>Electronics</td>\n",
                            "      <td>75</td>\n",
                            "      <td>70</td>\n",
                            "      <td>78</td>\n",
                            "      <td>92</td>\n",
                            "    </tr>\n",
                            "    <tr>\n",
                            "      <th>1</th>\n",
                            "      <td>C002</td>\n",
                            "      <td>이영희</td>\n",
                            "      <td>30</td>\n",
                            "      <td>안양</td>\n",
                            "      <td>fashion</td>\n",
                            "      <td>85</td>\n",
                            "      <td>92</td>\n",
                            "      <td>88</td>\n",
                            "      <td>85</td>\n",
                            "    </tr>\n",
                            "    <tr>\n",
                            "      <th>2</th>\n",
                            "      <td>C003</td>\n",
                            "      <td>박지성</td>\n",
                            "      <td>35</td>\n",
                            "      <td>울산</td>\n",
                            "      <td>NaN</td>\n",
                            "      <td>95</td>\n",
                            "      <td>110</td>\n",
                            "      <td>91</td>\n",
                            "      <td>88</td>\n",
                            "    </tr>\n",
                            "    <tr>\n",
                            "      <th>3</th>\n",
                            "      <td>C004</td>\n",
                            "      <td>최민아</td>\n",
                            "      <td>40</td>\n",
                            "      <td>창원</td>\n",
                            "      <td>Fashion</td>\n",
                            "      <td>92</td>\n",
                            "      <td>105</td>\n",
                            "      <td>82</td>\n",
                            "      <td>96</td>\n",
                            "    </tr>\n",
                            "    <tr>\n",
                            "      <th>4</th>\n",
                            "      <td>C005</td>\n",
                            "      <td>정수빈</td>\n",
                            "      <td>28</td>\n",
                            "      <td>구로</td>\n",
                            "      <td>Fashion</td>\n",
                            "      <td>82</td>\n",
                            "      <td>88</td>\n",
                            "      <td>94</td>\n",
                            "      <td>79</td>\n",
                            "    </tr>\n",
                            "  </tbody>\n",
                            "</table>\n",
                            "</div>"
                        ],
                        "text/plain": [
                            "   고객ID  고객명  나이 거주도시        주요관심사  최근1년_방문빈도  평균구매액(만원)  고객만족도(점)  재구매의사(점)\n",
                            "0  C001  박태근  35   시흥  Electronics         75         70        78        92\n",
                            "1  C002  이영희  30   안양      fashion         85         92        88        85\n",
                            "2  C003  박지성  35   울산          NaN         95        110        91        88\n",
                            "3  C004  최민아  40   창원      Fashion         92        105        82        96\n",
                            "4  C005  정수빈  28   구로      Fashion         82         88        94        79"
                        ]
                    },
                    "execution_count": 2,
                    "metadata": {},
                    "output_type": "execute_result"
                }
            ],
            "source": [
                "# 고객 데이터 불러오기\n",
                "df = pd.read_csv('../02_Pandas/data/customers3.csv', encoding='utf-8')\n",
                "df.head()\n"
            ]
        },
        {
            "cell_type": "markdown",
            "metadata": {},
            "source": [
                "## 서브플롯 만들기\n",
                "### subplots() 함수\n",
                "- **subplots(nrows, ncols)** 로 여러 그래프를 배치할 수 있다.\n",
                "- **fig**: Figure 객체\n",
                "- **axs**: Axes 객체들의 배열\n"
            ]
        },
        {
            "cell_type": "code",
            "execution_count": null,
            "metadata": {},
            "outputs": [
                {
                    "ename": "TypeError",
                    "evalue": "'Axes' object is not subscriptable",
                    "output_type": "error",
                    "traceback": [
                        "\u001b[31m---------------------------------------------------------------------------\u001b[39m",
                        "\u001b[31mTypeError\u001b[39m                                 Traceback (most recent call last)",
                        "\u001b[36mCell\u001b[39m\u001b[36m \u001b[39m\u001b[32mIn[4]\u001b[39m\u001b[32m, line 4\u001b[39m\n\u001b[32m      1\u001b[39m fig, axs = plt.subplots(\u001b[32m1\u001b[39m, \u001b[32m1\u001b[39m, figsize=(\u001b[32m6\u001b[39m,\u001b[32m4\u001b[39m)) \n\u001b[32m      3\u001b[39m city_counts = df[\u001b[33m'\u001b[39m\u001b[33m거주도시\u001b[39m\u001b[33m'\u001b[39m].value_counts()\n\u001b[32m----> \u001b[39m\u001b[32m4\u001b[39m \u001b[43maxs\u001b[49m\u001b[43m[\u001b[49m\u001b[32;43m0\u001b[39;49m\u001b[43m,\u001b[49m\u001b[32;43m0\u001b[39;49m\u001b[43m]\u001b[49m.bar(city_counts.index, city_counts.values)\n\u001b[32m      5\u001b[39m axs[\u001b[32m0\u001b[39m,\u001b[32m0\u001b[39m].set.title(\u001b[33m'\u001b[39m\u001b[33m거주도시별 고객 수\u001b[39m\u001b[33m'\u001b[39m)\n\u001b[32m      6\u001b[39m axs[\u001b[32m0\u001b[39m,\u001b[32m0\u001b[39m].set.xlabel(\u001b[33m'\u001b[39m\u001b[33m거주도시\u001b[39m\u001b[33m'\u001b[39m)\n",
                        "\u001b[31mTypeError\u001b[39m: 'Axes' object is not subscriptable"
                    ]
                },
                {
                    "data": {
                        "image/png": "[encoded data removed]",
                        "text/plain": [
                            "<Figure size 600x400 with 1 Axes>"
                        ]
                    },
                    "metadata": {},
                    "output_type": "display_data"
                }
            ],
            "source": [
                "fig, axs = plt.subplots(1, 1, figsize=(6,4)) \n",
                "#첫번째 그래프[0,0]\n",
                "city_counts = df['거주도시'].value_counts()\n",
                "axs[0,0].bar(city_counts.index, city_counts.values)\n",
                "axs[0,0].set.title('거주도시별 고객 수')\n",
                "axs[0,0].set.xlabel('거주도시')\n",
                "axs[0,0].set.ㅛlabel('고객수')\n",
                "axs[0,0]\n",
                "#두번째 그래프[0,1]\n",
                "\n",
                "#세번째 그래프[1,0] 나이분포\n",
                "\n",
                "axs[1,0].barh\n",
                "\n",
                "\n",
                "\n",
                "\n",
                "\n",
                "\n",
                "\n"
            ]
        },
        {
            "cell_type": "markdown",
            "metadata": {},
            "source": [
                "## Axes 객체 활용\n",
                "### 각 서브플롯 스타일링\n",
                "- 각 Axes 객체에 대해 개별적으로 스타일을 적용할 수 있다.\n",
                "- **set_facecolor()**: 배경색 설정\n",
                "- **grid()**: 그리드 추가\n"
            ]
        },
        {
            "cell_type": "code",
            "execution_count": null,
            "metadata": {},
            "outputs": [],
            "source": []
        }
    ],
    "metadata": {
        "kernelspec": {
            "display_name": "HDWIA",
            "language": "python",
            "name": "python3"
        },
        "language_info": {
            "codemirror_mode": {
                "name": "ipython",
                "version": 3
            },
            "file_extension": ".py",
            "mimetype": "text/x-python",
            "name": "python",
            "nbconvert_exporter": "python",
            "pygments_lexer": "ipython3",
            "version": "3.12.12"
        }
    },
    "nbformat": 4,
    "nbformat_minor": 2
}
