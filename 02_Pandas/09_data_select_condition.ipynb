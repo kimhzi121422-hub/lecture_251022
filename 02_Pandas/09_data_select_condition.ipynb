{
 "cells": [
  {
   "cell_type": "markdown",
   "id": "f4bbd3be",
   "metadata": {},
   "source": [
    "# 9. 조건에 따른 데이터 선택\n",
    "---\n",
    "- 데이터프레임에서 특정 조건(참/거짓)을 만족하는 행들만 골라내는 기능 (필터기능)"
   ]
  },
  {
   "cell_type": "code",
   "execution_count": 9,
   "id": "eb43b0c7",
   "metadata": {},
   "outputs": [
    {
     "data": {
      "text/html": [
       "<div>\n",
       "<style scoped>\n",
       "    .dataframe tbody tr th:only-of-type {\n",
       "        vertical-align: middle;\n",
       "    }\n",
       "\n",
       "    .dataframe tbody tr th {\n",
       "        vertical-align: top;\n",
       "    }\n",
       "\n",
       "    .dataframe thead th {\n",
       "        text-align: right;\n",
       "    }\n",
       "</style>\n",
       "<table border=\"1\" class=\"dataframe\">\n",
       "  <thead>\n",
       "    <tr style=\"text-align: right;\">\n",
       "      <th></th>\n",
       "      <th>고객명</th>\n",
       "      <th>나이</th>\n",
       "      <th>거주도시</th>\n",
       "      <th>주요관심사</th>\n",
       "      <th>최근1년_방문빈도</th>\n",
       "      <th>평균구매액(만원)</th>\n",
       "      <th>고객만족도(점)</th>\n",
       "      <th>재구매의사(점)</th>\n",
       "    </tr>\n",
       "    <tr>\n",
       "      <th>고객ID</th>\n",
       "      <th></th>\n",
       "      <th></th>\n",
       "      <th></th>\n",
       "      <th></th>\n",
       "      <th></th>\n",
       "      <th></th>\n",
       "      <th></th>\n",
       "      <th></th>\n",
       "    </tr>\n",
       "  </thead>\n",
       "  <tbody>\n",
       "    <tr>\n",
       "      <th>C001</th>\n",
       "      <td>박태근</td>\n",
       "      <td>35</td>\n",
       "      <td>시흥</td>\n",
       "      <td>Electronics</td>\n",
       "      <td>75</td>\n",
       "      <td>70</td>\n",
       "      <td>78</td>\n",
       "      <td>92</td>\n",
       "    </tr>\n",
       "    <tr>\n",
       "      <th>C002</th>\n",
       "      <td>이영희</td>\n",
       "      <td>30</td>\n",
       "      <td>안양</td>\n",
       "      <td>fashion</td>\n",
       "      <td>85</td>\n",
       "      <td>92</td>\n",
       "      <td>88</td>\n",
       "      <td>85</td>\n",
       "    </tr>\n",
       "    <tr>\n",
       "      <th>C003</th>\n",
       "      <td>박지성</td>\n",
       "      <td>35</td>\n",
       "      <td>울산</td>\n",
       "      <td>NaN</td>\n",
       "      <td>95</td>\n",
       "      <td>110</td>\n",
       "      <td>91</td>\n",
       "      <td>88</td>\n",
       "    </tr>\n",
       "    <tr>\n",
       "      <th>C004</th>\n",
       "      <td>최민아</td>\n",
       "      <td>40</td>\n",
       "      <td>창원</td>\n",
       "      <td>Fashion</td>\n",
       "      <td>92</td>\n",
       "      <td>105</td>\n",
       "      <td>82</td>\n",
       "      <td>96</td>\n",
       "    </tr>\n",
       "    <tr>\n",
       "      <th>C005</th>\n",
       "      <td>정수빈</td>\n",
       "      <td>28</td>\n",
       "      <td>구로</td>\n",
       "      <td>Fashion</td>\n",
       "      <td>82</td>\n",
       "      <td>88</td>\n",
       "      <td>94</td>\n",
       "      <td>79</td>\n",
       "    </tr>\n",
       "    <tr>\n",
       "      <th>C006</th>\n",
       "      <td>윤태영</td>\n",
       "      <td>27</td>\n",
       "      <td>시흥</td>\n",
       "      <td>Electronics</td>\n",
       "      <td>88</td>\n",
       "      <td>95</td>\n",
       "      <td>85</td>\n",
       "      <td>91</td>\n",
       "    </tr>\n",
       "    <tr>\n",
       "      <th>C007</th>\n",
       "      <td>한유진</td>\n",
       "      <td>31</td>\n",
       "      <td>파주</td>\n",
       "      <td>NaN</td>\n",
       "      <td>68</td>\n",
       "      <td>65</td>\n",
       "      <td>77</td>\n",
       "      <td>83</td>\n",
       "    </tr>\n",
       "    <tr>\n",
       "      <th>C008</th>\n",
       "      <td>강민호</td>\n",
       "      <td>29</td>\n",
       "      <td>일산</td>\n",
       "      <td>Sports</td>\n",
       "      <td>98</td>\n",
       "      <td>125</td>\n",
       "      <td>96</td>\n",
       "      <td>90</td>\n",
       "    </tr>\n",
       "  </tbody>\n",
       "</table>\n",
       "</div>"
      ],
      "text/plain": [
       "      고객명  나이 거주도시        주요관심사  최근1년_방문빈도  평균구매액(만원)  고객만족도(점)  재구매의사(점)\n",
       "고객ID                                                                     \n",
       "C001  박태근  35   시흥  Electronics         75         70        78        92\n",
       "C002  이영희  30   안양      fashion         85         92        88        85\n",
       "C003  박지성  35   울산          NaN         95        110        91        88\n",
       "C004  최민아  40   창원      Fashion         92        105        82        96\n",
       "C005  정수빈  28   구로      Fashion         82         88        94        79\n",
       "C006  윤태영  27   시흥  Electronics         88         95        85        91\n",
       "C007  한유진  31   파주          NaN         68         65        77        83\n",
       "C008  강민호  29   일산       Sports         98        125        96        90"
      ]
     },
     "execution_count": 9,
     "metadata": {},
     "output_type": "execute_result"
    }
   ],
   "source": [
    "import pandas as pd\n",
    "df = pd.read_csv('data/customers3.csv', index_col='고객ID')\n",
    "df"
   ]
  },
  {
   "cell_type": "markdown",
   "id": "dbe714ef",
   "metadata": {},
   "source": [
    "- 고객중 나이가 30세 이상인 고객"
   ]
  },
  {
   "cell_type": "code",
   "execution_count": null,
   "id": "1d59f849",
   "metadata": {},
   "outputs": [],
   "source": [
    "filter = df ['나이'] >= 30 # bool 형태로 되어있는 시리즈가 필터\n",
    "df[filter]"
   ]
  },
  {
   "cell_type": "markdown",
   "id": "1e3df66f",
   "metadata": {},
   "source": [
    "- True에 해당하는 데이터들만 조회 할 수도 있다."
   ]
  },
  {
   "cell_type": "code",
   "execution_count": null,
   "id": "90ccc490",
   "metadata": {},
   "outputs": [],
   "source": []
  },
  {
   "cell_type": "markdown",
   "id": "02f17ec0",
   "metadata": {},
   "source": [
    "- 필터를 반전시킬 수 있다."
   ]
  },
  {
   "cell_type": "code",
   "execution_count": null,
   "id": "3efc73b1",
   "metadata": {},
   "outputs": [],
   "source": [
    "~filter"
   ]
  },
  {
   "cell_type": "code",
   "execution_count": null,
   "id": "a322b967",
   "metadata": {},
   "outputs": [],
   "source": []
  },
  {
   "cell_type": "markdown",
   "id": "b655dec9",
   "metadata": {},
   "source": [
    "loc와 응용해서 사용하기\n",
    "- 보통 조건에 따라 원하는 데이터들만 보기위해 많이 사용한다."
   ]
  },
  {
   "cell_type": "code",
   "execution_count": null,
   "id": "cbefea49",
   "metadata": {},
   "outputs": [],
   "source": []
  },
  {
   "cell_type": "code",
   "execution_count": null,
   "id": "f1c570fa",
   "metadata": {},
   "outputs": [],
   "source": []
  },
  {
   "cell_type": "markdown",
   "id": "10f3f9c0",
   "metadata": {},
   "source": [
    "Quiz\n",
    "- 평균구매액(만원)이 100만원 이상인 사람들의 고객명과 나이를 조회해보자"
   ]
  },
  {
   "cell_type": "code",
   "execution_count": 10,
   "id": "73bb8bf7",
   "metadata": {},
   "outputs": [
    {
     "data": {
      "text/html": [
       "<div>\n",
       "<style scoped>\n",
       "    .dataframe tbody tr th:only-of-type {\n",
       "        vertical-align: middle;\n",
       "    }\n",
       "\n",
       "    .dataframe tbody tr th {\n",
       "        vertical-align: top;\n",
       "    }\n",
       "\n",
       "    .dataframe thead th {\n",
       "        text-align: right;\n",
       "    }\n",
       "</style>\n",
       "<table border=\"1\" class=\"dataframe\">\n",
       "  <thead>\n",
       "    <tr style=\"text-align: right;\">\n",
       "      <th></th>\n",
       "      <th>나이</th>\n",
       "      <th>고객명</th>\n",
       "      <th>평균구매액(만원)</th>\n",
       "    </tr>\n",
       "    <tr>\n",
       "      <th>고객ID</th>\n",
       "      <th></th>\n",
       "      <th></th>\n",
       "      <th></th>\n",
       "    </tr>\n",
       "  </thead>\n",
       "  <tbody>\n",
       "    <tr>\n",
       "      <th>C003</th>\n",
       "      <td>35</td>\n",
       "      <td>박지성</td>\n",
       "      <td>110</td>\n",
       "    </tr>\n",
       "    <tr>\n",
       "      <th>C004</th>\n",
       "      <td>40</td>\n",
       "      <td>최민아</td>\n",
       "      <td>105</td>\n",
       "    </tr>\n",
       "    <tr>\n",
       "      <th>C008</th>\n",
       "      <td>29</td>\n",
       "      <td>강민호</td>\n",
       "      <td>125</td>\n",
       "    </tr>\n",
       "  </tbody>\n",
       "</table>\n",
       "</div>"
      ],
      "text/plain": [
       "      나이  고객명  평균구매액(만원)\n",
       "고객ID                    \n",
       "C003  35  박지성        110\n",
       "C004  40  최민아        105\n",
       "C008  29  강민호        125"
      ]
     },
     "execution_count": 10,
     "metadata": {},
     "output_type": "execute_result"
    }
   ],
   "source": [
    "filter = df['평균구매액(만원)'] >= 100\n",
    "\n",
    "df.loc[filter, ['나이', '고객명', '평균구매액(만원)']]"
   ]
  },
  {
   "cell_type": "markdown",
   "id": "d76631d7",
   "metadata": {},
   "source": [
    "## 다양한 문법을 활용한 조건 설정"
   ]
  },
  {
   "cell_type": "markdown",
   "id": "1105a081",
   "metadata": {},
   "source": [
    "**& 엔드 조건**\n",
    "- 평균구매액이 90만원 이하 이고 재구매의사(점)이이 85 이상인 고객 데이터(전부)조회하기"
   ]
  },
  {
   "cell_type": "code",
   "execution_count": 11,
   "id": "9d332ed7",
   "metadata": {},
   "outputs": [
    {
     "data": {
      "text/html": [
       "<div>\n",
       "<style scoped>\n",
       "    .dataframe tbody tr th:only-of-type {\n",
       "        vertical-align: middle;\n",
       "    }\n",
       "\n",
       "    .dataframe tbody tr th {\n",
       "        vertical-align: top;\n",
       "    }\n",
       "\n",
       "    .dataframe thead th {\n",
       "        text-align: right;\n",
       "    }\n",
       "</style>\n",
       "<table border=\"1\" class=\"dataframe\">\n",
       "  <thead>\n",
       "    <tr style=\"text-align: right;\">\n",
       "      <th></th>\n",
       "      <th>고객명</th>\n",
       "      <th>나이</th>\n",
       "      <th>거주도시</th>\n",
       "      <th>주요관심사</th>\n",
       "      <th>최근1년_방문빈도</th>\n",
       "      <th>평균구매액(만원)</th>\n",
       "      <th>고객만족도(점)</th>\n",
       "      <th>재구매의사(점)</th>\n",
       "    </tr>\n",
       "    <tr>\n",
       "      <th>고객ID</th>\n",
       "      <th></th>\n",
       "      <th></th>\n",
       "      <th></th>\n",
       "      <th></th>\n",
       "      <th></th>\n",
       "      <th></th>\n",
       "      <th></th>\n",
       "      <th></th>\n",
       "    </tr>\n",
       "  </thead>\n",
       "  <tbody>\n",
       "    <tr>\n",
       "      <th>C001</th>\n",
       "      <td>박태근</td>\n",
       "      <td>35</td>\n",
       "      <td>시흥</td>\n",
       "      <td>Electronics</td>\n",
       "      <td>75</td>\n",
       "      <td>70</td>\n",
       "      <td>78</td>\n",
       "      <td>92</td>\n",
       "    </tr>\n",
       "  </tbody>\n",
       "</table>\n",
       "</div>"
      ],
      "text/plain": [
       "      고객명  나이 거주도시        주요관심사  최근1년_방문빈도  평균구매액(만원)  고객만족도(점)  재구매의사(점)\n",
       "고객ID                                                                     \n",
       "C001  박태근  35   시흥  Electronics         75         70        78        92"
      ]
     },
     "execution_count": 11,
     "metadata": {},
     "output_type": "execute_result"
    }
   ],
   "source": [
    "filter = (df['평균구매액(만원)']<=90) & (df['재구매의사(점)']>=85)\n",
    "\n",
    "df.loc[filter]"
   ]
  },
  {
   "cell_type": "markdown",
   "id": "ed8890ee",
   "metadata": {},
   "source": [
    "**| or 조건**\n",
    "- 나이가 25살 미만이거나 35이상인 고객 데이터를 조회하기"
   ]
  },
  {
   "cell_type": "code",
   "execution_count": 17,
   "id": "d631290b",
   "metadata": {},
   "outputs": [
    {
     "data": {
      "text/html": [
       "<div>\n",
       "<style scoped>\n",
       "    .dataframe tbody tr th:only-of-type {\n",
       "        vertical-align: middle;\n",
       "    }\n",
       "\n",
       "    .dataframe tbody tr th {\n",
       "        vertical-align: top;\n",
       "    }\n",
       "\n",
       "    .dataframe thead th {\n",
       "        text-align: right;\n",
       "    }\n",
       "</style>\n",
       "<table border=\"1\" class=\"dataframe\">\n",
       "  <thead>\n",
       "    <tr style=\"text-align: right;\">\n",
       "      <th></th>\n",
       "      <th>고객명</th>\n",
       "      <th>나이</th>\n",
       "      <th>거주도시</th>\n",
       "      <th>주요관심사</th>\n",
       "      <th>최근1년_방문빈도</th>\n",
       "      <th>평균구매액(만원)</th>\n",
       "      <th>고객만족도(점)</th>\n",
       "      <th>재구매의사(점)</th>\n",
       "    </tr>\n",
       "    <tr>\n",
       "      <th>고객ID</th>\n",
       "      <th></th>\n",
       "      <th></th>\n",
       "      <th></th>\n",
       "      <th></th>\n",
       "      <th></th>\n",
       "      <th></th>\n",
       "      <th></th>\n",
       "      <th></th>\n",
       "    </tr>\n",
       "  </thead>\n",
       "  <tbody>\n",
       "    <tr>\n",
       "      <th>C004</th>\n",
       "      <td>최민아</td>\n",
       "      <td>40</td>\n",
       "      <td>창원</td>\n",
       "      <td>Fashion</td>\n",
       "      <td>92</td>\n",
       "      <td>105</td>\n",
       "      <td>82</td>\n",
       "      <td>96</td>\n",
       "    </tr>\n",
       "  </tbody>\n",
       "</table>\n",
       "</div>"
      ],
      "text/plain": [
       "      고객명  나이 거주도시    주요관심사  최근1년_방문빈도  평균구매액(만원)  고객만족도(점)  재구매의사(점)\n",
       "고객ID                                                                 \n",
       "C004  최민아  40   창원  Fashion         92        105        82        96"
      ]
     },
     "execution_count": 17,
     "metadata": {},
     "output_type": "execute_result"
    }
   ],
   "source": [
    "filter = (df['나이'] < 25) | (df['나이'] > 35)\n",
    "\n",
    "df.loc[filter]"
   ]
  },
  {
   "cell_type": "markdown",
   "id": "bfb307e7",
   "metadata": {},
   "source": [
    "**String 함수**"
   ]
  },
  {
   "cell_type": "markdown",
   "id": "e3611201",
   "metadata": {},
   "source": [
    "**startwith()**\n",
    "- 문자열이 특정 글자로 시작하는지 확인하는 메서드 (특정글자로 시작하면 True 아니면 False)"
   ]
  },
  {
   "cell_type": "code",
   "execution_count": 18,
   "id": "4c57b963",
   "metadata": {},
   "outputs": [],
   "source": [
    "filter = df ['고객명'].str.startswith('최')"
   ]
  },
  {
   "cell_type": "markdown",
   "id": "20d81a0d",
   "metadata": {},
   "source": [
    "**isin()**\n",
    "- 각 데이터가 특정 값 목록(리스트)에 포함되어 있는지 확인하는 메서드"
   ]
  },
  {
   "cell_type": "code",
   "execution_count": 24,
   "id": "4fdd66f0",
   "metadata": {},
   "outputs": [
    {
     "data": {
      "text/html": [
       "<div>\n",
       "<style scoped>\n",
       "    .dataframe tbody tr th:only-of-type {\n",
       "        vertical-align: middle;\n",
       "    }\n",
       "\n",
       "    .dataframe tbody tr th {\n",
       "        vertical-align: top;\n",
       "    }\n",
       "\n",
       "    .dataframe thead th {\n",
       "        text-align: right;\n",
       "    }\n",
       "</style>\n",
       "<table border=\"1\" class=\"dataframe\">\n",
       "  <thead>\n",
       "    <tr style=\"text-align: right;\">\n",
       "      <th></th>\n",
       "      <th>고객명</th>\n",
       "      <th>나이</th>\n",
       "      <th>거주도시</th>\n",
       "      <th>주요관심사</th>\n",
       "      <th>최근1년_방문빈도</th>\n",
       "      <th>평균구매액(만원)</th>\n",
       "      <th>고객만족도(점)</th>\n",
       "      <th>재구매의사(점)</th>\n",
       "    </tr>\n",
       "    <tr>\n",
       "      <th>고객ID</th>\n",
       "      <th></th>\n",
       "      <th></th>\n",
       "      <th></th>\n",
       "      <th></th>\n",
       "      <th></th>\n",
       "      <th></th>\n",
       "      <th></th>\n",
       "      <th></th>\n",
       "    </tr>\n",
       "  </thead>\n",
       "  <tbody>\n",
       "    <tr>\n",
       "      <th>C002</th>\n",
       "      <td>이영희</td>\n",
       "      <td>30</td>\n",
       "      <td>안양</td>\n",
       "      <td>fashion</td>\n",
       "      <td>85</td>\n",
       "      <td>92</td>\n",
       "      <td>88</td>\n",
       "      <td>85</td>\n",
       "    </tr>\n",
       "    <tr>\n",
       "      <th>C004</th>\n",
       "      <td>최민아</td>\n",
       "      <td>40</td>\n",
       "      <td>창원</td>\n",
       "      <td>Fashion</td>\n",
       "      <td>92</td>\n",
       "      <td>105</td>\n",
       "      <td>82</td>\n",
       "      <td>96</td>\n",
       "    </tr>\n",
       "    <tr>\n",
       "      <th>C005</th>\n",
       "      <td>정수빈</td>\n",
       "      <td>28</td>\n",
       "      <td>구로</td>\n",
       "      <td>Fashion</td>\n",
       "      <td>82</td>\n",
       "      <td>88</td>\n",
       "      <td>94</td>\n",
       "      <td>79</td>\n",
       "    </tr>\n",
       "  </tbody>\n",
       "</table>\n",
       "</div>"
      ],
      "text/plain": [
       "      고객명  나이 거주도시    주요관심사  최근1년_방문빈도  평균구매액(만원)  고객만족도(점)  재구매의사(점)\n",
       "고객ID                                                                 \n",
       "C002  이영희  30   안양  fashion         85         92        88        85\n",
       "C004  최민아  40   창원  Fashion         92        105        82        96\n",
       "C005  정수빈  28   구로  Fashion         82         88        94        79"
      ]
     },
     "execution_count": 24,
     "metadata": {},
     "output_type": "execute_result"
    }
   ],
   "source": [
    "interests = ['fashion']\n",
    "\n",
    "\n",
    "filter = df['주요관심사'].str.lower().isin(interests)\n",
    "\n",
    "df.loc[filter]\n",
    "\n"
   ]
  },
  {
   "cell_type": "code",
   "execution_count": null,
   "id": "d7971dcf",
   "metadata": {},
   "outputs": [],
   "source": []
  },
  {
   "cell_type": "markdown",
   "id": "f35d186c",
   "metadata": {},
   "source": [
    "**contains()**\n",
    "- 문자열이 특정 글자가 포함되는지 확인하는 메서드 (특정글자로 포함되면 True 아니면 False)"
   ]
  },
  {
   "cell_type": "code",
   "execution_count": 29,
   "id": "14e22d10",
   "metadata": {},
   "outputs": [
    {
     "data": {
      "text/plain": [
       "고객ID\n",
       "C001    False\n",
       "C002    False\n",
       "C003    False\n",
       "C004    False\n",
       "C005    False\n",
       "C006    False\n",
       "C007    False\n",
       "C008     True\n",
       "Name: 주요관심사, dtype: bool"
      ]
     },
     "execution_count": 29,
     "metadata": {},
     "output_type": "execute_result"
    }
   ],
   "source": [
    "filter = df['주요관심사'].str.contains('Sports', na = False)\n",
    "\n",
    "filter"
   ]
  },
  {
   "cell_type": "code",
   "execution_count": null,
   "id": "f9691671",
   "metadata": {},
   "outputs": [],
   "source": []
  },
  {
   "cell_type": "markdown",
   "id": "95f603af",
   "metadata": {},
   "source": [
    "- contains()을 사용할때 주의할점\n",
    "    - 만약 데이터가 NaN으로 되어있다면 문제가 발생 할 수 있다."
   ]
  },
  {
   "cell_type": "code",
   "execution_count": null,
   "id": "f515d586",
   "metadata": {},
   "outputs": [],
   "source": []
  },
  {
   "cell_type": "code",
   "execution_count": null,
   "id": "dfcca918",
   "metadata": {},
   "outputs": [],
   "source": []
  },
  {
   "cell_type": "code",
   "execution_count": null,
   "id": "1a98d382",
   "metadata": {},
   "outputs": [],
   "source": []
  },
  {
   "cell_type": "code",
   "execution_count": null,
   "id": "bd8964d7",
   "metadata": {},
   "outputs": [],
   "source": []
  },
  {
   "cell_type": "code",
   "execution_count": null,
   "id": "d75411b3",
   "metadata": {},
   "outputs": [],
   "source": []
  }
 ],
 "metadata": {
  "kernelspec": {
   "display_name": "HDWIA",
   "language": "python",
   "name": "python3"
  },
  "language_info": {
   "codemirror_mode": {
    "name": "ipython",
    "version": 3
   },
   "file_extension": ".py",
   "mimetype": "text/x-python",
   "name": "python",
   "nbconvert_exporter": "python",
   "pygments_lexer": "ipython3",
   "version": "3.12.12"
  }
 },
 "nbformat": 4,
 "nbformat_minor": 5
}
