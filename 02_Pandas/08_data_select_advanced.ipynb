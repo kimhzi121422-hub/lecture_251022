{
 "cells": [
  {
   "cell_type": "markdown",
   "id": "9ca123f9",
   "metadata": {},
   "source": [
    "# 8. iloc와 loc\n",
    "---"
   ]
  },
  {
   "cell_type": "code",
   "execution_count": null,
   "id": "799af277",
   "metadata": {},
   "outputs": [],
   "source": [
    "import pandas as pd\n",
    "df = pd.read_csv('data/customers3.csv', index_col='고객ID')\n",
    "df"
   ]
  },
  {
   "cell_type": "markdown",
   "id": "4a40d367",
   "metadata": {},
   "source": [
    "### .iloc[] (Integer-location)\n",
    "- 'Integer location'의 약자로, **정수 위치(0부터 시작하는 순서)**를 기반으로 데이터를 선택(조회)하는 기능\n",
    "- df.iloc[행위치, 열위치] 형태로 사용하며, 이름(label)이 아닌 순서(position)로만 작동한다."
   ]
  },
  {
   "cell_type": "markdown",
   "id": "1fec920c",
   "metadata": {},
   "source": [
    "**행(ROW) 전체 조회하기**"
   ]
  },
  {
   "cell_type": "code",
   "execution_count": null,
   "id": "c2c4fef9",
   "metadata": {},
   "outputs": [],
   "source": []
  },
  {
   "cell_type": "code",
   "execution_count": null,
   "id": "2fb1ce23",
   "metadata": {},
   "outputs": [],
   "source": []
  },
  {
   "cell_type": "markdown",
   "id": "28584b51",
   "metadata": {},
   "source": [
    "**단일 값(데이터) 조회하기**"
   ]
  },
  {
   "cell_type": "code",
   "execution_count": null,
   "id": "84a18e97",
   "metadata": {},
   "outputs": [],
   "source": []
  },
  {
   "cell_type": "code",
   "execution_count": null,
   "id": "b0372729",
   "metadata": {},
   "outputs": [],
   "source": []
  },
  {
   "cell_type": "code",
   "execution_count": null,
   "id": "88d291fa",
   "metadata": {},
   "outputs": [],
   "source": []
  },
  {
   "cell_type": "code",
   "execution_count": null,
   "id": "a259a5d0",
   "metadata": {},
   "outputs": [],
   "source": []
  },
  {
   "cell_type": "markdown",
   "id": "e3b5b533",
   "metadata": {},
   "source": [
    "### .loc[] (Label-location)\n",
    "- 'Label location'의 약자로, 이름(Label)을 기반으로 데이터를 선택(조회)하는 기능\n",
    "- 인덱스 이름(예: 'row_A')과 컬럼 이름(예: 'col_X')을 직접 사용"
   ]
  },
  {
   "cell_type": "markdown",
   "id": "376caded",
   "metadata": {},
   "source": [
    "**행(ROW) 전체 조회하기**"
   ]
  },
  {
   "cell_type": "code",
   "execution_count": null,
   "id": "ca2d41b5",
   "metadata": {},
   "outputs": [],
   "source": []
  },
  {
   "cell_type": "code",
   "execution_count": null,
   "id": "9fc4ddfd",
   "metadata": {},
   "outputs": [],
   "source": []
  },
  {
   "cell_type": "markdown",
   "id": "6cb104db",
   "metadata": {},
   "source": [
    "**단일 값(데이터) 조회하기**"
   ]
  },
  {
   "cell_type": "code",
   "execution_count": null,
   "id": "329c1c99",
   "metadata": {},
   "outputs": [],
   "source": []
  },
  {
   "cell_type": "code",
   "execution_count": null,
   "id": "ab234693",
   "metadata": {},
   "outputs": [],
   "source": []
  },
  {
   "cell_type": "code",
   "execution_count": null,
   "id": "9b0e7fdc",
   "metadata": {},
   "outputs": [],
   "source": []
  }
 ],
 "metadata": {
  "kernelspec": {
   "display_name": "Python 3",
   "language": "python",
   "name": "python3"
  },
  "language_info": {
   "codemirror_mode": {
    "name": "ipython",
    "version": 3
   },
   "file_extension": ".py",
   "mimetype": "text/x-python",
   "name": "python",
   "nbconvert_exporter": "python",
   "pygments_lexer": "ipython3",
   "version": "3.14.0"
  }
 },
 "nbformat": 4,
 "nbformat_minor": 5
}
