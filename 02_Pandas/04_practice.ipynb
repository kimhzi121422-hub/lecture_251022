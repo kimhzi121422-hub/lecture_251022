{
 "cells": [
  {
   "cell_type": "markdown",
   "id": "50f0e136",
   "metadata": {},
   "source": [
    "# Pandas 연습 문제 1\n",
    "---\n",
    "### 다음의 데이터를 이용하여 실습 문제를 해결하세요.\n",
    "| Name | Age | City | Salary |\n",
    "| --- | --- | --- | --- |\n",
    "| Alice | 25 | New York | 70000 |\n",
    "| Bob | 30 | Los Angeles | 80000 |\n",
    "| Charlie | 35 | Chicago | 120000 |\n",
    "| David | 40 | Houston | 90000 |\n",
    "| Eve | 28 | San Francisco | 75000 |\n"
   ]
  },
  {
   "cell_type": "markdown",
   "id": "34e20706",
   "metadata": {},
   "source": [
    "**문제1. DataFrame 객체 생성**\n",
    "- 위의 데이터를 사용하여 DataFrame객체를 생성하세요."
   ]
  },
  {
   "cell_type": "code",
   "execution_count": 1,
   "id": "29552084",
   "metadata": {},
   "outputs": [
    {
     "name": "stdout",
     "output_type": "stream",
     "text": [
      "      Name  Age           City  Salary\n",
      "0    Alice   25       New York   70000\n",
      "1      Bob   30    Los Angeles   80000\n",
      "2  Charlie   35        Chicago  120000\n",
      "3    David   40        Houston   90000\n",
      "4      Eve   28  San Francisco   75000\n"
     ]
    }
   ],
   "source": [
    "import pandas as pd\n",
    "\n",
    "# 예시 데이터 생성\n",
    "data = {\n",
    "    'Name': ['Alice', 'Bob', 'Charlie', 'David', 'Eve'],\n",
    "    'Age': [25, 30, 35, 40, 28],\n",
    "    'City': ['New York', 'Los Angeles', 'Chicago', 'Houston', 'San Francisco'],\n",
    "    'Salary': [70000, 80000, 120000, 90000, 75000]\n",
    "}\n",
    "\n",
    "df = pd.DataFrame(data)\n",
    "print(df)"
   ]
  },
  {
   "cell_type": "markdown",
   "id": "166f9032",
   "metadata": {},
   "source": [
    "**문제2. 열과 행 선택**\n",
    "- `Name`과 `City` 열을 선택하여 출력하세요.\n",
    "- 나이가 30 이상인 행을 선택하여 출력하세요."
   ]
  },
  {
   "cell_type": "code",
   "execution_count": 6,
   "id": "8bafa030",
   "metadata": {},
   "outputs": [
    {
     "data": {
      "text/html": [
       "<div>\n",
       "<style scoped>\n",
       "    .dataframe tbody tr th:only-of-type {\n",
       "        vertical-align: middle;\n",
       "    }\n",
       "\n",
       "    .dataframe tbody tr th {\n",
       "        vertical-align: top;\n",
       "    }\n",
       "\n",
       "    .dataframe thead th {\n",
       "        text-align: right;\n",
       "    }\n",
       "</style>\n",
       "<table border=\"1\" class=\"dataframe\">\n",
       "  <thead>\n",
       "    <tr style=\"text-align: right;\">\n",
       "      <th></th>\n",
       "      <th>Name</th>\n",
       "      <th>City</th>\n",
       "    </tr>\n",
       "  </thead>\n",
       "  <tbody>\n",
       "    <tr>\n",
       "      <th>0</th>\n",
       "      <td>Alice</td>\n",
       "      <td>New York</td>\n",
       "    </tr>\n",
       "    <tr>\n",
       "      <th>1</th>\n",
       "      <td>Bob</td>\n",
       "      <td>Los Angeles</td>\n",
       "    </tr>\n",
       "    <tr>\n",
       "      <th>2</th>\n",
       "      <td>Charlie</td>\n",
       "      <td>Chicago</td>\n",
       "    </tr>\n",
       "    <tr>\n",
       "      <th>3</th>\n",
       "      <td>David</td>\n",
       "      <td>Houston</td>\n",
       "    </tr>\n",
       "    <tr>\n",
       "      <th>4</th>\n",
       "      <td>Eve</td>\n",
       "      <td>San Francisco</td>\n",
       "    </tr>\n",
       "  </tbody>\n",
       "</table>\n",
       "</div>"
      ],
      "text/plain": [
       "      Name           City\n",
       "0    Alice       New York\n",
       "1      Bob    Los Angeles\n",
       "2  Charlie        Chicago\n",
       "3    David        Houston\n",
       "4      Eve  San Francisco"
      ]
     },
     "execution_count": 6,
     "metadata": {},
     "output_type": "execute_result"
    }
   ],
   "source": [
    "# Name과 City 열 선택\n",
    "df[['Name', 'City']]"
   ]
  },
  {
   "cell_type": "code",
   "execution_count": 3,
   "id": "4d991621",
   "metadata": {},
   "outputs": [
    {
     "name": "stdout",
     "output_type": "stream",
     "text": [
      "      Name  Age         City  Salary\n",
      "1      Bob   30  Los Angeles   80000\n",
      "2  Charlie   35      Chicago  120000\n",
      "3    David   40      Houston   90000\n"
     ]
    }
   ],
   "source": [
    "# 나이가 30 이상인 행 선택\n",
    "\n",
    "print(df[df['Age'] >= 30])"
   ]
  },
  {
   "cell_type": "markdown",
   "id": "78b04480",
   "metadata": {},
   "source": [
    "**문제 3: 행과 열 추가**\n",
    "\n",
    "- `Country` 열을 추가하고, 모두 'USA'로 설정하세요.\n",
    "- 새로운 행을 추가하세요. (Name: Frank, Age: 33, City: Seattle, Salary: 85000)"
   ]
  },
  {
   "cell_type": "code",
   "execution_count": 20,
   "id": "68dfd84d",
   "metadata": {},
   "outputs": [
    {
     "name": "stdout",
     "output_type": "stream",
     "text": [
      "      Name  Age           City  Salary Country\n",
      "0    Alice   25       New York   70000     USA\n",
      "1      Bob   30    Los Angeles   80000     USA\n",
      "2  Charlie   35        Chicago  120000     USA\n",
      "3    David   40        Houston   90000     USA\n",
      "4      Eve   28  San Francisco   75000     USA\n",
      "5    Frank   33        Seattle   85000     USA\n"
     ]
    }
   ],
   "source": [
    "import pandas as pd\n",
    "\n",
    "# 예시 데이터 생성\n",
    "data = {\n",
    "    'Name': ['Alice', 'Bob', 'Charlie', 'David', 'Eve'],\n",
    "    'Age': [25, 30, 35, 40, 28],\n",
    "    'City': ['New York', 'Los Angeles', 'Chicago', 'Houston', 'San Francisco'],\n",
    "    'Salary': [70000, 80000, 120000, 90000, 75000]\n",
    "}\n",
    "\n",
    "df = pd.DataFrame(data)\n",
    "\n",
    "# Country 열 추가\n",
    "df['Country'] = 'USA'\n",
    "\n",
    "# 새로운 행 추가\n",
    "df.loc[len(df)] = ['Frank', 33, 'Seattle', 85000, 'USA']\n",
    "print(df)"
   ]
  },
  {
   "cell_type": "code",
   "execution_count": null,
   "id": "616df5a9",
   "metadata": {},
   "outputs": [],
   "source": []
  },
  {
   "cell_type": "markdown",
   "id": "f9109b7c",
   "metadata": {},
   "source": [
    "**문제 4: 데이터 삭제**\n",
    "\n",
    "- `Country` 열을 삭제하세요.\n",
    "- 'David'가 있는 행을 삭제하세요."
   ]
  },
  {
   "cell_type": "code",
   "execution_count": null,
   "id": "c23bb8c2",
   "metadata": {},
   "outputs": [],
   "source": [
    "# Country 열 삭제\n",
    "\n",
    "# 'David'가 있는 행 삭제"
   ]
  },
  {
   "cell_type": "markdown",
   "id": "e41294fc",
   "metadata": {},
   "source": [
    "**문제 5: 데이터 수정**\n",
    "\n",
    "- `Age`가 35 이상인 사람들의 `Salary`를 5% 증가시키세요.\n",
    "- 'Alice'의 `City`를 'Boston'으로 수정하세요."
   ]
  },
  {
   "cell_type": "code",
   "execution_count": null,
   "id": "d8bc42f6",
   "metadata": {},
   "outputs": [],
   "source": [
    "# Age가 35 이상인 사람들의 Salary 5% 증가"
   ]
  },
  {
   "cell_type": "code",
   "execution_count": null,
   "id": "dcb70bac",
   "metadata": {},
   "outputs": [],
   "source": [
    "# 'Alice'의 City를 'Boston'으로 수정"
   ]
  },
  {
   "cell_type": "markdown",
   "id": "8b848715",
   "metadata": {},
   "source": [
    "**문제 6: 데이터 타입 변환**\n",
    "\n",
    "- `Salary`의 데이터 타입을 float로 변환하세요."
   ]
  },
  {
   "cell_type": "code",
   "execution_count": null,
   "id": "f7c5d577",
   "metadata": {},
   "outputs": [],
   "source": []
  }
 ],
 "metadata": {
  "kernelspec": {
   "display_name": "HDWIA",
   "language": "python",
   "name": "python3"
  },
  "language_info": {
   "codemirror_mode": {
    "name": "ipython",
    "version": 3
   },
   "file_extension": ".py",
   "mimetype": "text/x-python",
   "name": "python",
   "nbconvert_exporter": "python",
   "pygments_lexer": "ipython3",
   "version": "3.12.12"
  }
 },
 "nbformat": 4,
 "nbformat_minor": 5
}
