{
 "cells": [
  {
   "cell_type": "markdown",
   "id": "0013b48c",
   "metadata": {},
   "source": [
    "# 6. 데이터 탐색하기\n",
    "---"
   ]
  },
  {
   "cell_type": "code",
   "execution_count": 1,
   "id": "2ba55b58",
   "metadata": {},
   "outputs": [
    {
     "data": {
      "text/html": [
       "<div>\n",
       "<style scoped>\n",
       "    .dataframe tbody tr th:only-of-type {\n",
       "        vertical-align: middle;\n",
       "    }\n",
       "\n",
       "    .dataframe tbody tr th {\n",
       "        vertical-align: top;\n",
       "    }\n",
       "\n",
       "    .dataframe thead th {\n",
       "        text-align: right;\n",
       "    }\n",
       "</style>\n",
       "<table border=\"1\" class=\"dataframe\">\n",
       "  <thead>\n",
       "    <tr style=\"text-align: right;\">\n",
       "      <th></th>\n",
       "      <th>고객명</th>\n",
       "      <th>나이</th>\n",
       "      <th>거주도시</th>\n",
       "      <th>주요관심사</th>\n",
       "      <th>최근1년_방문빈도</th>\n",
       "      <th>평균구매액(만원)</th>\n",
       "      <th>고객만족도(점)</th>\n",
       "      <th>재구매의사(점)</th>\n",
       "    </tr>\n",
       "    <tr>\n",
       "      <th>고객ID</th>\n",
       "      <th></th>\n",
       "      <th></th>\n",
       "      <th></th>\n",
       "      <th></th>\n",
       "      <th></th>\n",
       "      <th></th>\n",
       "      <th></th>\n",
       "      <th></th>\n",
       "    </tr>\n",
       "  </thead>\n",
       "  <tbody>\n",
       "    <tr>\n",
       "      <th>C001</th>\n",
       "      <td>박태근</td>\n",
       "      <td>35</td>\n",
       "      <td>시흥</td>\n",
       "      <td>Electronics</td>\n",
       "      <td>75</td>\n",
       "      <td>70</td>\n",
       "      <td>78</td>\n",
       "      <td>92</td>\n",
       "    </tr>\n",
       "    <tr>\n",
       "      <th>C002</th>\n",
       "      <td>이영희</td>\n",
       "      <td>30</td>\n",
       "      <td>안양</td>\n",
       "      <td>fashion</td>\n",
       "      <td>85</td>\n",
       "      <td>92</td>\n",
       "      <td>88</td>\n",
       "      <td>85</td>\n",
       "    </tr>\n",
       "    <tr>\n",
       "      <th>C003</th>\n",
       "      <td>박지성</td>\n",
       "      <td>35</td>\n",
       "      <td>울산</td>\n",
       "      <td>NaN</td>\n",
       "      <td>95</td>\n",
       "      <td>110</td>\n",
       "      <td>91</td>\n",
       "      <td>88</td>\n",
       "    </tr>\n",
       "    <tr>\n",
       "      <th>C004</th>\n",
       "      <td>최민아</td>\n",
       "      <td>40</td>\n",
       "      <td>창원</td>\n",
       "      <td>Fashion</td>\n",
       "      <td>92</td>\n",
       "      <td>105</td>\n",
       "      <td>82</td>\n",
       "      <td>96</td>\n",
       "    </tr>\n",
       "    <tr>\n",
       "      <th>C005</th>\n",
       "      <td>정수빈</td>\n",
       "      <td>28</td>\n",
       "      <td>구로</td>\n",
       "      <td>Fashion</td>\n",
       "      <td>82</td>\n",
       "      <td>88</td>\n",
       "      <td>94</td>\n",
       "      <td>79</td>\n",
       "    </tr>\n",
       "    <tr>\n",
       "      <th>C006</th>\n",
       "      <td>윤태영</td>\n",
       "      <td>27</td>\n",
       "      <td>시흥</td>\n",
       "      <td>Electronics</td>\n",
       "      <td>88</td>\n",
       "      <td>95</td>\n",
       "      <td>85</td>\n",
       "      <td>91</td>\n",
       "    </tr>\n",
       "    <tr>\n",
       "      <th>C007</th>\n",
       "      <td>한유진</td>\n",
       "      <td>31</td>\n",
       "      <td>파주</td>\n",
       "      <td>NaN</td>\n",
       "      <td>68</td>\n",
       "      <td>65</td>\n",
       "      <td>77</td>\n",
       "      <td>83</td>\n",
       "    </tr>\n",
       "    <tr>\n",
       "      <th>C008</th>\n",
       "      <td>강민호</td>\n",
       "      <td>29</td>\n",
       "      <td>일산</td>\n",
       "      <td>Sports</td>\n",
       "      <td>98</td>\n",
       "      <td>125</td>\n",
       "      <td>96</td>\n",
       "      <td>90</td>\n",
       "    </tr>\n",
       "  </tbody>\n",
       "</table>\n",
       "</div>"
      ],
      "text/plain": [
       "      고객명  나이 거주도시        주요관심사  최근1년_방문빈도  평균구매액(만원)  고객만족도(점)  재구매의사(점)\n",
       "고객ID                                                                     \n",
       "C001  박태근  35   시흥  Electronics         75         70        78        92\n",
       "C002  이영희  30   안양      fashion         85         92        88        85\n",
       "C003  박지성  35   울산          NaN         95        110        91        88\n",
       "C004  최민아  40   창원      Fashion         92        105        82        96\n",
       "C005  정수빈  28   구로      Fashion         82         88        94        79\n",
       "C006  윤태영  27   시흥  Electronics         88         95        85        91\n",
       "C007  한유진  31   파주          NaN         68         65        77        83\n",
       "C008  강민호  29   일산       Sports         98        125        96        90"
      ]
     },
     "execution_count": 1,
     "metadata": {},
     "output_type": "execute_result"
    }
   ],
   "source": [
    "import pandas as pd\n",
    "df = pd.read_csv('data/customers3.csv', index_col='고객ID')\n",
    "df"
   ]
  },
  {
   "cell_type": "markdown",
   "id": "fd12a442",
   "metadata": {},
   "source": [
    "### DataFrame 확인"
   ]
  },
  {
   "cell_type": "markdown",
   "id": "3c67576c",
   "metadata": {},
   "source": [
    "**describe()**\n",
    "- 기술 통계 정보를 요약해서 보여주는 기능\n",
    "- 옵션없이 실행했을때, 기본적으로 계산가능한 컬럼들에 대해 통계를 계산해준다.\n",
    "\n",
    "> 기본사용시\n",
    "> - count: NaN (결측치)를 제외한 데이터 개수\n",
    "> - mean: 평균값\n",
    "> - std: 표준편차 (데이터가 얼마나 흩어져 있는지)\n",
    "> - min: 최솟값\n",
    "> - 25%: 1사분위수 (하위 25% 지점의 값)\n",
    "> - 50%: 2사분위수 (중앙값, median과 동일)\n",
    "> - 75%: 3사분위수 (하위 75% 지점의 값)\n",
    "> - max: 최댓값"
   ]
  },
  {
   "cell_type": "code",
   "execution_count": 2,
   "id": "515b498d",
   "metadata": {},
   "outputs": [
    {
     "data": {
      "text/html": [
       "<div>\n",
       "<style scoped>\n",
       "    .dataframe tbody tr th:only-of-type {\n",
       "        vertical-align: middle;\n",
       "    }\n",
       "\n",
       "    .dataframe tbody tr th {\n",
       "        vertical-align: top;\n",
       "    }\n",
       "\n",
       "    .dataframe thead th {\n",
       "        text-align: right;\n",
       "    }\n",
       "</style>\n",
       "<table border=\"1\" class=\"dataframe\">\n",
       "  <thead>\n",
       "    <tr style=\"text-align: right;\">\n",
       "      <th></th>\n",
       "      <th>나이</th>\n",
       "      <th>최근1년_방문빈도</th>\n",
       "      <th>평균구매액(만원)</th>\n",
       "      <th>고객만족도(점)</th>\n",
       "      <th>재구매의사(점)</th>\n",
       "    </tr>\n",
       "  </thead>\n",
       "  <tbody>\n",
       "    <tr>\n",
       "      <th>count</th>\n",
       "      <td>8.000000</td>\n",
       "      <td>8.000000</td>\n",
       "      <td>8.000000</td>\n",
       "      <td>8.000000</td>\n",
       "      <td>8.000000</td>\n",
       "    </tr>\n",
       "    <tr>\n",
       "      <th>mean</th>\n",
       "      <td>31.875000</td>\n",
       "      <td>85.375000</td>\n",
       "      <td>93.750000</td>\n",
       "      <td>86.375000</td>\n",
       "      <td>88.000000</td>\n",
       "    </tr>\n",
       "    <tr>\n",
       "      <th>std</th>\n",
       "      <td>4.421942</td>\n",
       "      <td>10.169106</td>\n",
       "      <td>19.983922</td>\n",
       "      <td>7.110103</td>\n",
       "      <td>5.451081</td>\n",
       "    </tr>\n",
       "    <tr>\n",
       "      <th>min</th>\n",
       "      <td>27.000000</td>\n",
       "      <td>68.000000</td>\n",
       "      <td>65.000000</td>\n",
       "      <td>77.000000</td>\n",
       "      <td>79.000000</td>\n",
       "    </tr>\n",
       "    <tr>\n",
       "      <th>25%</th>\n",
       "      <td>28.750000</td>\n",
       "      <td>80.250000</td>\n",
       "      <td>83.500000</td>\n",
       "      <td>81.000000</td>\n",
       "      <td>84.500000</td>\n",
       "    </tr>\n",
       "    <tr>\n",
       "      <th>50%</th>\n",
       "      <td>30.500000</td>\n",
       "      <td>86.500000</td>\n",
       "      <td>93.500000</td>\n",
       "      <td>86.500000</td>\n",
       "      <td>89.000000</td>\n",
       "    </tr>\n",
       "    <tr>\n",
       "      <th>75%</th>\n",
       "      <td>35.000000</td>\n",
       "      <td>92.750000</td>\n",
       "      <td>106.250000</td>\n",
       "      <td>91.750000</td>\n",
       "      <td>91.250000</td>\n",
       "    </tr>\n",
       "    <tr>\n",
       "      <th>max</th>\n",
       "      <td>40.000000</td>\n",
       "      <td>98.000000</td>\n",
       "      <td>125.000000</td>\n",
       "      <td>96.000000</td>\n",
       "      <td>96.000000</td>\n",
       "    </tr>\n",
       "  </tbody>\n",
       "</table>\n",
       "</div>"
      ],
      "text/plain": [
       "              나이  최근1년_방문빈도   평균구매액(만원)   고객만족도(점)   재구매의사(점)\n",
       "count   8.000000   8.000000    8.000000   8.000000   8.000000\n",
       "mean   31.875000  85.375000   93.750000  86.375000  88.000000\n",
       "std     4.421942  10.169106   19.983922   7.110103   5.451081\n",
       "min    27.000000  68.000000   65.000000  77.000000  79.000000\n",
       "25%    28.750000  80.250000   83.500000  81.000000  84.500000\n",
       "50%    30.500000  86.500000   93.500000  86.500000  89.000000\n",
       "75%    35.000000  92.750000  106.250000  91.750000  91.250000\n",
       "max    40.000000  98.000000  125.000000  96.000000  96.000000"
      ]
     },
     "execution_count": 2,
     "metadata": {},
     "output_type": "execute_result"
    }
   ],
   "source": [
    "# 데이터를 처음 받았을때 각 열이 어떤 값들로 이루어져있는지, 데이터 분포는 어떤지 빠르게 익히는데 도움됨됨\n",
    "df.describe()"
   ]
  },
  {
   "cell_type": "markdown",
   "id": "51fa379f",
   "metadata": {},
   "source": [
    "**info()**\n",
    "\n",
    "- 데이터프레임의 전체적인 구조와 각 컬럼의 정보를 요약해서 보여준다.\n",
    "- 데이터 분석 시작 전, 결측치(Missing Data) 확인이나 데이터 타입(Dtype) 확인을 위해 많이 사용한다."
   ]
  },
  {
   "cell_type": "code",
   "execution_count": 4,
   "id": "2e4c5c14",
   "metadata": {},
   "outputs": [
    {
     "name": "stdout",
     "output_type": "stream",
     "text": [
      "<class 'pandas.core.frame.DataFrame'>\n",
      "Index: 8 entries, C001 to C008\n",
      "Data columns (total 8 columns):\n",
      " #   Column     Non-Null Count  Dtype \n",
      "---  ------     --------------  ----- \n",
      " 0   고객명        8 non-null      object\n",
      " 1   나이         8 non-null      int64 \n",
      " 2   거주도시       8 non-null      object\n",
      " 3   주요관심사      6 non-null      object\n",
      " 4   최근1년_방문빈도  8 non-null      int64 \n",
      " 5   평균구매액(만원)  8 non-null      int64 \n",
      " 6   고객만족도(점)   8 non-null      int64 \n",
      " 7   재구매의사(점)   8 non-null      int64 \n",
      "dtypes: int64(5), object(3)\n",
      "memory usage: 576.0+ bytes\n"
     ]
    }
   ],
   "source": [
    "df.info()"
   ]
  },
  {
   "cell_type": "code",
   "execution_count": 3,
   "id": "f265bdd7",
   "metadata": {},
   "outputs": [
    {
     "data": {
      "text/html": [
       "<div>\n",
       "<style scoped>\n",
       "    .dataframe tbody tr th:only-of-type {\n",
       "        vertical-align: middle;\n",
       "    }\n",
       "\n",
       "    .dataframe tbody tr th {\n",
       "        vertical-align: top;\n",
       "    }\n",
       "\n",
       "    .dataframe thead th {\n",
       "        text-align: right;\n",
       "    }\n",
       "</style>\n",
       "<table border=\"1\" class=\"dataframe\">\n",
       "  <thead>\n",
       "    <tr style=\"text-align: right;\">\n",
       "      <th></th>\n",
       "      <th>고객명</th>\n",
       "      <th>나이</th>\n",
       "      <th>거주도시</th>\n",
       "      <th>주요관심사</th>\n",
       "      <th>최근1년_방문빈도</th>\n",
       "      <th>평균구매액(만원)</th>\n",
       "      <th>고객만족도(점)</th>\n",
       "      <th>재구매의사(점)</th>\n",
       "    </tr>\n",
       "    <tr>\n",
       "      <th>고객ID</th>\n",
       "      <th></th>\n",
       "      <th></th>\n",
       "      <th></th>\n",
       "      <th></th>\n",
       "      <th></th>\n",
       "      <th></th>\n",
       "      <th></th>\n",
       "      <th></th>\n",
       "    </tr>\n",
       "  </thead>\n",
       "  <tbody>\n",
       "    <tr>\n",
       "      <th>C001</th>\n",
       "      <td>박태근</td>\n",
       "      <td>35</td>\n",
       "      <td>시흥</td>\n",
       "      <td>Electronics</td>\n",
       "      <td>75</td>\n",
       "      <td>70</td>\n",
       "      <td>78</td>\n",
       "      <td>92</td>\n",
       "    </tr>\n",
       "    <tr>\n",
       "      <th>C002</th>\n",
       "      <td>이영희</td>\n",
       "      <td>30</td>\n",
       "      <td>안양</td>\n",
       "      <td>fashion</td>\n",
       "      <td>85</td>\n",
       "      <td>92</td>\n",
       "      <td>88</td>\n",
       "      <td>85</td>\n",
       "    </tr>\n",
       "    <tr>\n",
       "      <th>C003</th>\n",
       "      <td>박지성</td>\n",
       "      <td>35</td>\n",
       "      <td>울산</td>\n",
       "      <td>NaN</td>\n",
       "      <td>95</td>\n",
       "      <td>110</td>\n",
       "      <td>91</td>\n",
       "      <td>88</td>\n",
       "    </tr>\n",
       "    <tr>\n",
       "      <th>C004</th>\n",
       "      <td>최민아</td>\n",
       "      <td>40</td>\n",
       "      <td>창원</td>\n",
       "      <td>Fashion</td>\n",
       "      <td>92</td>\n",
       "      <td>105</td>\n",
       "      <td>82</td>\n",
       "      <td>96</td>\n",
       "    </tr>\n",
       "    <tr>\n",
       "      <th>C005</th>\n",
       "      <td>정수빈</td>\n",
       "      <td>28</td>\n",
       "      <td>구로</td>\n",
       "      <td>Fashion</td>\n",
       "      <td>82</td>\n",
       "      <td>88</td>\n",
       "      <td>94</td>\n",
       "      <td>79</td>\n",
       "    </tr>\n",
       "  </tbody>\n",
       "</table>\n",
       "</div>"
      ],
      "text/plain": [
       "      고객명  나이 거주도시        주요관심사  최근1년_방문빈도  평균구매액(만원)  고객만족도(점)  재구매의사(점)\n",
       "고객ID                                                                     \n",
       "C001  박태근  35   시흥  Electronics         75         70        78        92\n",
       "C002  이영희  30   안양      fashion         85         92        88        85\n",
       "C003  박지성  35   울산          NaN         95        110        91        88\n",
       "C004  최민아  40   창원      Fashion         92        105        82        96\n",
       "C005  정수빈  28   구로      Fashion         82         88        94        79"
      ]
     },
     "execution_count": 3,
     "metadata": {},
     "output_type": "execute_result"
    }
   ],
   "source": [
    "df.head() # 처음 5개의 row를 가져옴"
   ]
  },
  {
   "cell_type": "code",
   "execution_count": 5,
   "id": "eb5547b9",
   "metadata": {},
   "outputs": [
    {
     "data": {
      "text/html": [
       "<div>\n",
       "<style scoped>\n",
       "    .dataframe tbody tr th:only-of-type {\n",
       "        vertical-align: middle;\n",
       "    }\n",
       "\n",
       "    .dataframe tbody tr th {\n",
       "        vertical-align: top;\n",
       "    }\n",
       "\n",
       "    .dataframe thead th {\n",
       "        text-align: right;\n",
       "    }\n",
       "</style>\n",
       "<table border=\"1\" class=\"dataframe\">\n",
       "  <thead>\n",
       "    <tr style=\"text-align: right;\">\n",
       "      <th></th>\n",
       "      <th>고객명</th>\n",
       "      <th>나이</th>\n",
       "      <th>거주도시</th>\n",
       "      <th>주요관심사</th>\n",
       "      <th>최근1년_방문빈도</th>\n",
       "      <th>평균구매액(만원)</th>\n",
       "      <th>고객만족도(점)</th>\n",
       "      <th>재구매의사(점)</th>\n",
       "    </tr>\n",
       "    <tr>\n",
       "      <th>고객ID</th>\n",
       "      <th></th>\n",
       "      <th></th>\n",
       "      <th></th>\n",
       "      <th></th>\n",
       "      <th></th>\n",
       "      <th></th>\n",
       "      <th></th>\n",
       "      <th></th>\n",
       "    </tr>\n",
       "  </thead>\n",
       "  <tbody>\n",
       "    <tr>\n",
       "      <th>C001</th>\n",
       "      <td>박태근</td>\n",
       "      <td>35</td>\n",
       "      <td>시흥</td>\n",
       "      <td>Electronics</td>\n",
       "      <td>75</td>\n",
       "      <td>70</td>\n",
       "      <td>78</td>\n",
       "      <td>92</td>\n",
       "    </tr>\n",
       "    <tr>\n",
       "      <th>C002</th>\n",
       "      <td>이영희</td>\n",
       "      <td>30</td>\n",
       "      <td>안양</td>\n",
       "      <td>fashion</td>\n",
       "      <td>85</td>\n",
       "      <td>92</td>\n",
       "      <td>88</td>\n",
       "      <td>85</td>\n",
       "    </tr>\n",
       "    <tr>\n",
       "      <th>C003</th>\n",
       "      <td>박지성</td>\n",
       "      <td>35</td>\n",
       "      <td>울산</td>\n",
       "      <td>NaN</td>\n",
       "      <td>95</td>\n",
       "      <td>110</td>\n",
       "      <td>91</td>\n",
       "      <td>88</td>\n",
       "    </tr>\n",
       "    <tr>\n",
       "      <th>C004</th>\n",
       "      <td>최민아</td>\n",
       "      <td>40</td>\n",
       "      <td>창원</td>\n",
       "      <td>Fashion</td>\n",
       "      <td>92</td>\n",
       "      <td>105</td>\n",
       "      <td>82</td>\n",
       "      <td>96</td>\n",
       "    </tr>\n",
       "    <tr>\n",
       "      <th>C005</th>\n",
       "      <td>정수빈</td>\n",
       "      <td>28</td>\n",
       "      <td>구로</td>\n",
       "      <td>Fashion</td>\n",
       "      <td>82</td>\n",
       "      <td>88</td>\n",
       "      <td>94</td>\n",
       "      <td>79</td>\n",
       "    </tr>\n",
       "    <tr>\n",
       "      <th>C006</th>\n",
       "      <td>윤태영</td>\n",
       "      <td>27</td>\n",
       "      <td>시흥</td>\n",
       "      <td>Electronics</td>\n",
       "      <td>88</td>\n",
       "      <td>95</td>\n",
       "      <td>85</td>\n",
       "      <td>91</td>\n",
       "    </tr>\n",
       "    <tr>\n",
       "      <th>C007</th>\n",
       "      <td>한유진</td>\n",
       "      <td>31</td>\n",
       "      <td>파주</td>\n",
       "      <td>NaN</td>\n",
       "      <td>68</td>\n",
       "      <td>65</td>\n",
       "      <td>77</td>\n",
       "      <td>83</td>\n",
       "    </tr>\n",
       "  </tbody>\n",
       "</table>\n",
       "</div>"
      ],
      "text/plain": [
       "      고객명  나이 거주도시        주요관심사  최근1년_방문빈도  평균구매액(만원)  고객만족도(점)  재구매의사(점)\n",
       "고객ID                                                                     \n",
       "C001  박태근  35   시흥  Electronics         75         70        78        92\n",
       "C002  이영희  30   안양      fashion         85         92        88        85\n",
       "C003  박지성  35   울산          NaN         95        110        91        88\n",
       "C004  최민아  40   창원      Fashion         92        105        82        96\n",
       "C005  정수빈  28   구로      Fashion         82         88        94        79\n",
       "C006  윤태영  27   시흥  Electronics         88         95        85        91\n",
       "C007  한유진  31   파주          NaN         68         65        77        83"
      ]
     },
     "execution_count": 5,
     "metadata": {},
     "output_type": "execute_result"
    }
   ],
   "source": [
    "df.head(7) # 처음 7개의 row를 가져옴"
   ]
  },
  {
   "cell_type": "code",
   "execution_count": 6,
   "id": "3505e9bd",
   "metadata": {},
   "outputs": [
    {
     "data": {
      "text/html": [
       "<div>\n",
       "<style scoped>\n",
       "    .dataframe tbody tr th:only-of-type {\n",
       "        vertical-align: middle;\n",
       "    }\n",
       "\n",
       "    .dataframe tbody tr th {\n",
       "        vertical-align: top;\n",
       "    }\n",
       "\n",
       "    .dataframe thead th {\n",
       "        text-align: right;\n",
       "    }\n",
       "</style>\n",
       "<table border=\"1\" class=\"dataframe\">\n",
       "  <thead>\n",
       "    <tr style=\"text-align: right;\">\n",
       "      <th></th>\n",
       "      <th>고객명</th>\n",
       "      <th>나이</th>\n",
       "      <th>거주도시</th>\n",
       "      <th>주요관심사</th>\n",
       "      <th>최근1년_방문빈도</th>\n",
       "      <th>평균구매액(만원)</th>\n",
       "      <th>고객만족도(점)</th>\n",
       "      <th>재구매의사(점)</th>\n",
       "    </tr>\n",
       "    <tr>\n",
       "      <th>고객ID</th>\n",
       "      <th></th>\n",
       "      <th></th>\n",
       "      <th></th>\n",
       "      <th></th>\n",
       "      <th></th>\n",
       "      <th></th>\n",
       "      <th></th>\n",
       "      <th></th>\n",
       "    </tr>\n",
       "  </thead>\n",
       "  <tbody>\n",
       "    <tr>\n",
       "      <th>C004</th>\n",
       "      <td>최민아</td>\n",
       "      <td>40</td>\n",
       "      <td>창원</td>\n",
       "      <td>Fashion</td>\n",
       "      <td>92</td>\n",
       "      <td>105</td>\n",
       "      <td>82</td>\n",
       "      <td>96</td>\n",
       "    </tr>\n",
       "    <tr>\n",
       "      <th>C005</th>\n",
       "      <td>정수빈</td>\n",
       "      <td>28</td>\n",
       "      <td>구로</td>\n",
       "      <td>Fashion</td>\n",
       "      <td>82</td>\n",
       "      <td>88</td>\n",
       "      <td>94</td>\n",
       "      <td>79</td>\n",
       "    </tr>\n",
       "    <tr>\n",
       "      <th>C006</th>\n",
       "      <td>윤태영</td>\n",
       "      <td>27</td>\n",
       "      <td>시흥</td>\n",
       "      <td>Electronics</td>\n",
       "      <td>88</td>\n",
       "      <td>95</td>\n",
       "      <td>85</td>\n",
       "      <td>91</td>\n",
       "    </tr>\n",
       "    <tr>\n",
       "      <th>C007</th>\n",
       "      <td>한유진</td>\n",
       "      <td>31</td>\n",
       "      <td>파주</td>\n",
       "      <td>NaN</td>\n",
       "      <td>68</td>\n",
       "      <td>65</td>\n",
       "      <td>77</td>\n",
       "      <td>83</td>\n",
       "    </tr>\n",
       "    <tr>\n",
       "      <th>C008</th>\n",
       "      <td>강민호</td>\n",
       "      <td>29</td>\n",
       "      <td>일산</td>\n",
       "      <td>Sports</td>\n",
       "      <td>98</td>\n",
       "      <td>125</td>\n",
       "      <td>96</td>\n",
       "      <td>90</td>\n",
       "    </tr>\n",
       "  </tbody>\n",
       "</table>\n",
       "</div>"
      ],
      "text/plain": [
       "      고객명  나이 거주도시        주요관심사  최근1년_방문빈도  평균구매액(만원)  고객만족도(점)  재구매의사(점)\n",
       "고객ID                                                                     \n",
       "C004  최민아  40   창원      Fashion         92        105        82        96\n",
       "C005  정수빈  28   구로      Fashion         82         88        94        79\n",
       "C006  윤태영  27   시흥  Electronics         88         95        85        91\n",
       "C007  한유진  31   파주          NaN         68         65        77        83\n",
       "C008  강민호  29   일산       Sports         98        125        96        90"
      ]
     },
     "execution_count": 6,
     "metadata": {},
     "output_type": "execute_result"
    }
   ],
   "source": [
    "df.tail() # 마지막 5개의 row를 가져옴"
   ]
  },
  {
   "cell_type": "code",
   "execution_count": 7,
   "id": "921af112",
   "metadata": {},
   "outputs": [
    {
     "data": {
      "text/plain": [
       "array([['박태근', 35, '시흥', 'Electronics', 75, 70, 78, 92],\n",
       "       ['이영희', 30, '안양', 'fashion', 85, 92, 88, 85],\n",
       "       ['박지성', 35, '울산', nan, 95, 110, 91, 88],\n",
       "       ['최민아', 40, '창원', 'Fashion', 92, 105, 82, 96],\n",
       "       ['정수빈', 28, '구로', 'Fashion', 82, 88, 94, 79],\n",
       "       ['윤태영', 27, '시흥', 'Electronics', 88, 95, 85, 91],\n",
       "       ['한유진', 31, '파주', nan, 68, 65, 77, 83],\n",
       "       ['강민호', 29, '일산', 'Sports', 98, 125, 96, 90]], dtype=object)"
      ]
     },
     "execution_count": 7,
     "metadata": {},
     "output_type": "execute_result"
    }
   ],
   "source": [
    "df.values # 데이터에 들어있는 값들 확인"
   ]
  },
  {
   "cell_type": "code",
   "execution_count": 8,
   "id": "eb689792",
   "metadata": {},
   "outputs": [
    {
     "data": {
      "text/plain": [
       "Index(['C001', 'C002', 'C003', 'C004', 'C005', 'C006', 'C007', 'C008'], dtype='object', name='고객ID')"
      ]
     },
     "execution_count": 8,
     "metadata": {},
     "output_type": "execute_result"
    }
   ],
   "source": [
    "df.index # 인덱스 정보 확인"
   ]
  },
  {
   "cell_type": "code",
   "execution_count": 9,
   "id": "7df18be3",
   "metadata": {},
   "outputs": [
    {
     "data": {
      "text/plain": [
       "Index(['고객명', '나이', '거주도시', '주요관심사', '최근1년_방문빈도', '평균구매액(만원)', '고객만족도(점)',\n",
       "       '재구매의사(점)'],\n",
       "      dtype='object')"
      ]
     },
     "execution_count": 9,
     "metadata": {},
     "output_type": "execute_result"
    }
   ],
   "source": [
    "df.columns # 컬럼 정보 확인"
   ]
  },
  {
   "cell_type": "code",
   "execution_count": 10,
   "id": "eb2f8da9",
   "metadata": {},
   "outputs": [
    {
     "data": {
      "text/plain": [
       "(8, 8)"
      ]
     },
     "execution_count": 10,
     "metadata": {},
     "output_type": "execute_result"
    }
   ],
   "source": [
    "df.shape # row, column 갯수 확인"
   ]
  },
  {
   "cell_type": "markdown",
   "id": "470bbbe8",
   "metadata": {},
   "source": [
    "### Series 확인"
   ]
  },
  {
   "cell_type": "code",
   "execution_count": 11,
   "id": "68557d92",
   "metadata": {},
   "outputs": [
    {
     "data": {
      "text/plain": [
       "count      8.000000\n",
       "mean      93.750000\n",
       "std       19.983922\n",
       "min       65.000000\n",
       "25%       83.500000\n",
       "50%       93.500000\n",
       "75%      106.250000\n",
       "max      125.000000\n",
       "Name: 평균구매액(만원), dtype: float64"
      ]
     },
     "execution_count": 11,
     "metadata": {},
     "output_type": "execute_result"
    }
   ],
   "source": [
    "df['평균구매액(만원)'].describe()"
   ]
  },
  {
   "cell_type": "code",
   "execution_count": 12,
   "id": "dc967956",
   "metadata": {},
   "outputs": [
    {
     "data": {
      "text/plain": [
       "np.int64(125)"
      ]
     },
     "execution_count": 12,
     "metadata": {},
     "output_type": "execute_result"
    }
   ],
   "source": [
    "df['평균구매액(만원)'].max()"
   ]
  },
  {
   "cell_type": "code",
   "execution_count": 13,
   "id": "c4da95b1",
   "metadata": {},
   "outputs": [
    {
     "data": {
      "text/plain": [
       "고객ID\n",
       "C008    125\n",
       "C003    110\n",
       "C004    105\n",
       "Name: 평균구매액(만원), dtype: int64"
      ]
     },
     "execution_count": 13,
     "metadata": {},
     "output_type": "execute_result"
    }
   ],
   "source": [
    "df['평균구매액(만원)'].nlargest(3) # 평균구매액 높은 순서대로 3명 데이터"
   ]
  },
  {
   "cell_type": "code",
   "execution_count": 14,
   "id": "5fbc1326",
   "metadata": {},
   "outputs": [
    {
     "data": {
      "text/plain": [
       "np.float64(93.75)"
      ]
     },
     "execution_count": 14,
     "metadata": {},
     "output_type": "execute_result"
    }
   ],
   "source": [
    "df['평균구매액(만원)'].mean() # 평균구매액 평균"
   ]
  },
  {
   "cell_type": "code",
   "execution_count": 15,
   "id": "55508760",
   "metadata": {},
   "outputs": [
    {
     "data": {
      "text/plain": [
       "np.int64(750)"
      ]
     },
     "execution_count": 15,
     "metadata": {},
     "output_type": "execute_result"
    }
   ],
   "source": [
    "df['평균구매액(만원)'].sum() # 평균구매액 합계"
   ]
  },
  {
   "cell_type": "code",
   "execution_count": 16,
   "id": "a3b6f315",
   "metadata": {},
   "outputs": [
    {
     "data": {
      "text/plain": [
       "np.int64(6)"
      ]
     },
     "execution_count": 16,
     "metadata": {},
     "output_type": "execute_result"
    }
   ],
   "source": [
    "df['주요관심사'].count() # 주요관심사 데이터 개수"
   ]
  },
  {
   "cell_type": "code",
   "execution_count": 17,
   "id": "b0363b63",
   "metadata": {},
   "outputs": [
    {
     "data": {
      "text/plain": [
       "array(['Electronics', 'fashion', nan, 'Fashion', 'Sports'], dtype=object)"
      ]
     },
     "execution_count": 17,
     "metadata": {},
     "output_type": "execute_result"
    }
   ],
   "source": [
    "df['주요관심사'].unique() # 주요관심사 종류 확인"
   ]
  },
  {
   "cell_type": "code",
   "execution_count": null,
   "id": "b6e1b3c0",
   "metadata": {},
   "outputs": [],
   "source": []
  }
 ],
 "metadata": {
  "kernelspec": {
   "display_name": "HDWIA",
   "language": "python",
   "name": "python3"
  },
  "language_info": {
   "codemirror_mode": {
    "name": "ipython",
    "version": 3
   },
   "file_extension": ".py",
   "mimetype": "text/x-python",
   "name": "python",
   "nbconvert_exporter": "python",
   "pygments_lexer": "ipython3",
   "version": "3.12.12"
  }
 },
 "nbformat": 4,
 "nbformat_minor": 5
}
