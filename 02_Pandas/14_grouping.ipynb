{
 "cells": [
  {
   "cell_type": "markdown",
   "id": "17d25769",
   "metadata": {},
   "source": [
    "# 14. 그룹화\n",
    "---\n",
    "- 동일한 값을 가진 것들끼리 합쳐서 통계 또는 평균 등의 값을 계산하기 위해 사용"
   ]
  },
  {
   "cell_type": "code",
   "execution_count": null,
   "id": "3de65f9f",
   "metadata": {},
   "outputs": [],
   "source": [
    "import pandas as pd\n",
    "df = pd.read_csv('data/customers3.csv', index_col='고객ID')\n",
    "df"
   ]
  },
  {
   "cell_type": "markdown",
   "id": "3fcf9f38",
   "metadata": {},
   "source": [
    "**`groupby()` 함수**\n",
    "- 데이터를 특정 기준에 따라 그룹화하여 집계 연산을 수행한다.\n",
    "- 이를 통해 데이터의 패턴을 발견하거나 요약 통계를 얻는 데 매우 유용하다.        \n",
    "- 기본적인 그룹화`groupby()`는 주어진 열을 기준으로 데이터를 그룹화하고, <br>\n",
    "    그 결과에 대해 다양한 집계 연산을 적용할 수 있다"
   ]
  },
  {
   "cell_type": "code",
   "execution_count": null,
   "id": "cff3d68a",
   "metadata": {},
   "outputs": [],
   "source": []
  },
  {
   "cell_type": "code",
   "execution_count": null,
   "id": "d7e2cdcf",
   "metadata": {},
   "outputs": [],
   "source": []
  },
  {
   "cell_type": "code",
   "execution_count": null,
   "id": "2c5a9d7c",
   "metadata": {},
   "outputs": [],
   "source": []
  },
  {
   "cell_type": "code",
   "execution_count": null,
   "id": "c40973fb",
   "metadata": {},
   "outputs": [],
   "source": []
  },
  {
   "cell_type": "markdown",
   "id": "b287f2f1",
   "metadata": {},
   "source": [
    "**`agg()`**\n",
    "- 그룹화된 데이터에 대해 원하는 집계 연산을 적용하여 요약 통계를 얻을 수 있다."
   ]
  },
  {
   "cell_type": "markdown",
   "id": "2c0c3a97",
   "metadata": {},
   "source": [
    "데이터 집계함수를 사용해보기 위한 DataFrame 수정"
   ]
  },
  {
   "cell_type": "code",
   "execution_count": null,
   "id": "80194406",
   "metadata": {},
   "outputs": [],
   "source": []
  },
  {
   "cell_type": "code",
   "execution_count": null,
   "id": "46bae617",
   "metadata": {},
   "outputs": [],
   "source": []
  },
  {
   "cell_type": "markdown",
   "id": "099781f2",
   "metadata": {},
   "source": [
    "주요관심사별로 고객만족도와 재구매의사의 최소,최대,총합,평균 계산"
   ]
  },
  {
   "cell_type": "code",
   "execution_count": null,
   "id": "52ea8b7b",
   "metadata": {},
   "outputs": [],
   "source": [
    "aggragated = df.qroupby('주요관심사').agg(\n",
    "    {\n",
    "        '재구매의사(점)' : ['min', 'max', 'sum', 'mean'],\n",
    "        '고객만족도(점)' : ['min', 'max', 'sum', 'mean']\n",
    "    }\n",
    ")"
   ]
  },
  {
   "cell_type": "code",
   "execution_count": null,
   "id": "87481da3",
   "metadata": {},
   "outputs": [],
   "source": []
  }
 ],
 "metadata": {
  "kernelspec": {
   "display_name": "HDWIA",
   "language": "python",
   "name": "python3"
  },
  "language_info": {
   "codemirror_mode": {
    "name": "ipython",
    "version": 3
   },
   "file_extension": ".py",
   "mimetype": "text/x-python",
   "name": "python",
   "nbconvert_exporter": "python",
   "pygments_lexer": "ipython3",
   "version": "3.12.12"
  }
 },
 "nbformat": 4,
 "nbformat_minor": 5
}
