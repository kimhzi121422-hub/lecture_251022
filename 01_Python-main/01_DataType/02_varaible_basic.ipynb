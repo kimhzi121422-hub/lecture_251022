{
 "cells": [
  {
   "cell_type": "markdown",
   "metadata": {},
   "source": [
    "# 02. 기본 자료형\n",
    "---"
   ]
  },
  {
   "cell_type": "markdown",
   "metadata": {},
   "source": [
    "## 숫자형 (Numeric)\n",
    "\n",
    "### 숫자 자료형의 종류\n",
    "* 파이썬에서는 정수, 실수, 복소수 등 숫자를 표현하는 자료형을 모두 숫자 자료형이라고 표현한다."
   ]
  },
  {
   "cell_type": "code",
   "execution_count": null,
   "metadata": {},
   "outputs": [
    {
     "name": "stdout",
     "output_type": "stream",
     "text": [
      "<class 'float'>\n"
     ]
    }
   ],
   "source": [
    "num1=1    #정수 int\n",
    "num1=3.14 #실수 float\n",
    "\n",
    "print(type(num1))"
   ]
  },
  {
   "cell_type": "markdown",
   "metadata": {},
   "source": [
    "### 숫자 자료형의 연산\n",
    "* 숫자 자료형간에 기본적인 사칙연산과 파이썬에서만 가능한 특수연산을 할 수 있다."
   ]
  },
  {
   "cell_type": "code",
   "execution_count": 8,
   "metadata": {},
   "outputs": [
    {
     "name": "stdout",
     "output_type": "stream",
     "text": [
      "4\n",
      "2\n",
      "3\n",
      "3.0\n",
      "0\n",
      "3\n"
     ]
    }
   ],
   "source": [
    "num1 = 3\n",
    "num2= 1\n",
    "\n",
    "print(num1+num2)\n",
    "print(num1-num2)\n",
    "print(num1*num2)\n",
    "print(num1/num2)  #몫을 구하는 연산\n",
    "print(num1%num2)  #나머지 구하는 연산\n",
    "print(num1//num2) #몫만 구하는 연산\n"
   ]
  },
  {
   "cell_type": "code",
   "execution_count": 10,
   "metadata": {},
   "outputs": [
    {
     "name": "stdout",
     "output_type": "stream",
     "text": [
      "9\n"
     ]
    }
   ],
   "source": [
    "# 제곱연산\n",
    "\n",
    "base = 3\n",
    "print(base ** 2)"
   ]
  },
  {
   "cell_type": "code",
   "execution_count": null,
   "metadata": {},
   "outputs": [],
   "source": []
  },
  {
   "cell_type": "code",
   "execution_count": null,
   "metadata": {},
   "outputs": [],
   "source": []
  },
  {
   "cell_type": "code",
   "execution_count": null,
   "metadata": {},
   "outputs": [],
   "source": []
  },
  {
   "cell_type": "markdown",
   "metadata": {},
   "source": [
    "---\n",
    "## 논리형 (Boolean)\n",
    "\n",
    "### 논리 자료형\n",
    "* **true** 또는 **false** 값을 가지는 자료형\n",
    "* 논리 자료형은 문자열이 아니므로 따옴표( \"\" , '' )로 감싸서는 안되며, 첫 글자를 반드시 대문자로 해야한다.\n",
    "* 또한 논리 자료형은 자료형 자체로 사용하기도 하지만 비교 연산, 논리 연산의 결과로 논리 자료형이 반환된다."
   ]
  },
  {
   "cell_type": "code",
   "execution_count": null,
   "metadata": {},
   "outputs": [],
   "source": [
    "boll = True #대문자\n",
    "bol2 = False\n",
    "\n"
   ]
  },
  {
   "cell_type": "markdown",
   "metadata": {},
   "source": [
    "### 논리 자료형의 연산\n",
    "\n",
    "- 비교 연산 : ==, !=, >, <, >=, <=\n",
    "    - **==** : 좌항과 우항의 값이 동일한지 비교하여, 같으면 True, 같지 않으면 False를 반환한다.\n",
    "    - **!=** : 좌항과 우항의 값이 같지 않은지 비교하여, 서로 다르면 True, 같으면 False를 반환한다.\n",
    "    - **\\>,** < : 일반적으로 수학에서 사용하는 부등호와 같이 좌항과 우항의 크고 작음을 비교한다.\n",
    "    - **\\>=, <=** : 같거나 크다 또는 같거나 작다를 비교한다."
   ]
  },
  {
   "cell_type": "code",
   "execution_count": 14,
   "metadata": {},
   "outputs": [
    {
     "name": "stdout",
     "output_type": "stream",
     "text": [
      "False\n"
     ]
    }
   ],
   "source": [
    "a = 123\n",
    "b = 123\n",
    "\n",
    "print(a>b)"
   ]
  },
  {
   "cell_type": "markdown",
   "metadata": {},
   "source": [
    "### and 연산, or 연산\n",
    "### not 연산 \n",
    "\n"
   ]
  },
  {
   "cell_type": "code",
   "execution_count": 16,
   "metadata": {},
   "outputs": [
    {
     "name": "stdout",
     "output_type": "stream",
     "text": [
      "False\n"
     ]
    }
   ],
   "source": [
    "bol1 = True\n",
    "bol2 = False\n",
    "\n",
    "print(not bol1)"
   ]
  },
  {
   "cell_type": "markdown",
   "metadata": {},
   "source": [
    "---\n",
    "## 문자형 (String)\n",
    "### 문자형 선언\n",
    "* 쌍따옴표(\"\") 또는 홀따옴표('')를 사용하여 문자형 값을 선언할 수 있다."
   ]
  },
  {
   "cell_type": "code",
   "execution_count": null,
   "metadata": {},
   "outputs": [],
   "source": []
  },
  {
   "cell_type": "markdown",
   "metadata": {},
   "source": [
    "* 삼중 따옴표를 사용해 여러줄(멀티라인)으로 출력할 수 있다."
   ]
  },
  {
   "cell_type": "code",
   "execution_count": 18,
   "metadata": {},
   "outputs": [
    {
     "name": "stdout",
     "output_type": "stream",
     "text": [
      "\n",
      "안녕\n",
      "이건 여러줄을 표현하는 문자열(멀티라인) 입니다\n",
      "\n"
     ]
    }
   ],
   "source": [
    "text = '''\n",
    "안녕\n",
    "이건 여러줄을 표현하는 문자열(멀티라인) 입니다\n",
    "'''\n",
    "\n",
    "print(text)"
   ]
  },
  {
   "cell_type": "markdown",
   "metadata": {},
   "source": [
    "### 문자형 연산"
   ]
  },
  {
   "cell_type": "code",
   "execution_count": 22,
   "metadata": {},
   "outputs": [
    {
     "name": "stdout",
     "output_type": "stream",
     "text": [
      "1 방 들어간다\n"
     ]
    }
   ],
   "source": [
    "str1 = '아버지가'\n",
    "str2 = '방 들어간다'\n",
    "\n",
    "str1=1\n",
    "\n",
    "print (str(str1) + ' ' + str2)"
   ]
  },
  {
   "cell_type": "code",
   "execution_count": null,
   "metadata": {},
   "outputs": [],
   "source": []
  },
  {
   "cell_type": "code",
   "execution_count": null,
   "metadata": {},
   "outputs": [],
   "source": []
  },
  {
   "cell_type": "markdown",
   "metadata": {},
   "source": [
    "### String 내장메소드"
   ]
  },
  {
   "cell_type": "code",
   "execution_count": 25,
   "metadata": {},
   "outputs": [
    {
     "name": "stdout",
     "output_type": "stream",
     "text": [
      "2025/12/25\n",
      "2025-12-25\n"
     ]
    }
   ],
   "source": [
    "#replace()\n",
    "#문자를 찾아서 바꿀때 사용\n",
    "\n",
    "date = '2025/12/25'\n",
    "print(date)\n",
    "\n",
    "\n",
    "date = date.replace(\"/\",\"-\")\n",
    "print(date)"
   ]
  },
  {
   "cell_type": "code",
   "execution_count": null,
   "metadata": {},
   "outputs": [
    {
     "name": "stdout",
     "output_type": "stream",
     "text": [
      "  he   ll   o  \n",
      "he   ll   o\n"
     ]
    }
   ],
   "source": [
    "#strip()\n",
    "#문자열을 제거할때 사용, 기본적으로 양쪽 공백 제거\n",
    "\n",
    "text = \"  he   ll   o  \"\n",
    "\n",
    "# 모든 공백 문자 제거\n",
    "print(text)\n",
    "print(text.strip('   '))\n"
   ]
  },
  {
   "cell_type": "code",
   "execution_count": 34,
   "metadata": {},
   "outputs": [
    {
     "name": "stdout",
     "output_type": "stream",
     "text": [
      "HELLO WORLD\n",
      "hello world\n",
      "Hello world\n"
     ]
    }
   ],
   "source": [
    "# 대소문자 관련 메소드\n",
    "\n",
    "text = 'hElLO WoRlD'\n",
    "\n",
    "print(text.upper())\n",
    "print(text.lower())\n",
    "print(text.capitalize()) #맨 앞자리만"
   ]
  },
  {
   "cell_type": "markdown",
   "metadata": {},
   "source": [
    "### 02-03-04. 문자형 포맷팅\n",
    "\n",
    "1. % 포맷팅: 변수 포맷을 사용해 문자열에 변수 값을 삽입한다. (오래된 방식)\n",
    "- 변수 포맷 종류\n",
    "    - %s : 문자열\n",
    "    - %c : 문자\n",
    "    - %d : 정수\n",
    "    - %f : 실수"
   ]
  },
  {
   "cell_type": "code",
   "execution_count": null,
   "metadata": {},
   "outputs": [],
   "source": [
    "x = 10\n",
    "print('x is {0}' .format(x))\n"
   ]
  },
  {
   "cell_type": "markdown",
   "metadata": {},
   "source": [
    "2. format(): 타입 명시 없이 함수를 이용해 문자열에 변수 값을 삽입한다."
   ]
  },
  {
   "cell_type": "code",
   "execution_count": 35,
   "metadata": {},
   "outputs": [
    {
     "name": "stdout",
     "output_type": "stream",
     "text": [
      "x is 10\n"
     ]
    }
   ],
   "source": [
    "x = 10\n",
    "print('x is {0}' .format(x))"
   ]
  },
  {
   "cell_type": "markdown",
   "metadata": {},
   "source": [
    "**3. f-string: 파이썬 3.6 이상부터 사용가능하며, 문자열 앞에 f를 붙여 사용한다."
   ]
  },
  {
   "cell_type": "code",
   "execution_count": 36,
   "metadata": {},
   "outputs": [
    {
     "name": "stdout",
     "output_type": "stream",
     "text": [
      "x = 10\n"
     ]
    }
   ],
   "source": [
    "x = 10\n",
    "print(f'x = {x}')"
   ]
  },
  {
   "cell_type": "markdown",
   "metadata": {},
   "source": [
    "---\n",
    "## 형변환\n",
    "\n",
    "### 형변환이란?\n",
    "- 서로다른 자료형간의 연산을 위해 다른 자료형으로 타입을 변환하는 것"
   ]
  },
  {
   "cell_type": "code",
   "execution_count": 39,
   "metadata": {},
   "outputs": [
    {
     "name": "stdout",
     "output_type": "stream",
     "text": [
      "4\n",
      "8.0\n",
      "7\n"
     ]
    }
   ],
   "source": [
    "print(True + 3)\n",
    "print(3 + 5.0)\n",
    "\n",
    "print(int(4)+3)"
   ]
  },
  {
   "cell_type": "code",
   "execution_count": null,
   "metadata": {},
   "outputs": [],
   "source": []
  }
 ],
 "metadata": {
  "kernelspec": {
   "display_name": "HDWIA",
   "language": "python",
   "name": "python3"
  },
  "language_info": {
   "codemirror_mode": {
    "name": "ipython",
    "version": 3
   },
   "file_extension": ".py",
   "mimetype": "text/x-python",
   "name": "python",
   "nbconvert_exporter": "python",
   "pygments_lexer": "ipython3",
   "version": "3.12.12"
  }
 },
 "nbformat": 4,
 "nbformat_minor": 2
}
