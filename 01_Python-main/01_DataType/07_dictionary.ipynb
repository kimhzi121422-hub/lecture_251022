{
 "cells": [
  {
   "cell_type": "markdown",
   "metadata": {},
   "source": [
    "# 07. 딕셔너리 (Dictionaries)\n",
    "---\n",
    "## 딕셔너리 개요\n",
    "### 딕셔너리 표현식"
   ]
  },
  {
   "cell_type": "code",
   "execution_count": null,
   "metadata": {},
   "outputs": [
    {
     "name": "stdout",
     "output_type": "stream",
     "text": [
      "{'name': 'bear', 'key': 'value', 'city': '시흥'}\n",
      "{'name': 'bear', 'key': 'value', 'city': '창원'}\n"
     ]
    }
   ],
   "source": [
    "teacher = {\n",
    "    'name' : 'bear',\n",
    "    'key':'value'\n",
    "}\n",
    "\n",
    "teacher['city'] = '시흥'\n",
    "\n",
    "print(teacher)\n",
    "\n",
    "teacher['city'] = '창원'\n",
    "\n",
    "print(teacher)  # 중복값 존재 불가"
   ]
  },
  {
   "cell_type": "markdown",
   "metadata": {},
   "source": [
    "### 딕셔너리의 특징\n",
    "1. **키(key)** 와 **값(value)** 의 쌍으로 이루어진 데이터\n",
    "2. 키는 고유해야 한다.\n",
    "    - 중복키로 값을 저장하면, 기존값을 덮어쓴다.\n",
    "* 사전에서 단어를 찾아 뜻을 확인하는 것처럼, Dcitionaries에서 키를 사용하여 값을 찾고 활용 가능하다."
   ]
  },
  {
   "cell_type": "code",
   "execution_count": null,
   "metadata": {},
   "outputs": [],
   "source": []
  },
  {
   "cell_type": "markdown",
   "metadata": {},
   "source": [
    "3. Dictionaries는 가변적인 구조이다.\n",
    "* 딕셔너리는 생성후 키-값 쌍을 추가, 수정, 삭제 할 수 있다."
   ]
  },
  {
   "cell_type": "code",
   "execution_count": null,
   "metadata": {},
   "outputs": [],
   "source": []
  },
  {
   "cell_type": "markdown",
   "metadata": {},
   "source": [
    "---\n",
    "## 딕셔너리 메서드\n",
    "**get()**\n",
    "* 키를 사용하여 값을 가져오는 메서드\n",
    "* 키가 존재하지 않으면 기본값을 반환하거나, None을 반환한다."
   ]
  },
  {
   "cell_type": "code",
   "execution_count": 14,
   "metadata": {},
   "outputs": [
    {
     "name": "stdout",
     "output_type": "stream",
     "text": [
      "bear\n",
      "None\n",
      "dict_keys(['name', 'key', 'city'])\n",
      "dict_values(['bear', 'value', '창원'])\n",
      "dict_items([('name', 'bear'), ('key', 'value'), ('city', '창원')])\n"
     ]
    }
   ],
   "source": [
    "teacher = {\n",
    "    'name': 'bear',\n",
    "  'key': 'value', \n",
    "  'city': '창원'\n",
    "  }\n",
    "print(teacher['name'])\n",
    "print(teacher.get('name2')) # 없으면 none\n",
    "\n",
    "print(teacher.keys())\n",
    "print(teacher.values())\n",
    "print(teacher.items())"
   ]
  },
  {
   "cell_type": "code",
   "execution_count": null,
   "metadata": {},
   "outputs": [],
   "source": []
  }
 ],
 "metadata": {
  "kernelspec": {
   "display_name": "HDWIA",
   "language": "python",
   "name": "python3"
  },
  "language_info": {
   "codemirror_mode": {
    "name": "ipython",
    "version": 3
   },
   "file_extension": ".py",
   "mimetype": "text/x-python",
   "name": "python",
   "nbconvert_exporter": "python",
   "pygments_lexer": "ipython3",
   "version": "3.12.12"
  }
 },
 "nbformat": 4,
 "nbformat_minor": 2
}
