{
 "cells": [
  {
   "cell_type": "markdown",
   "id": "92eb1aaf",
   "metadata": {},
   "source": [
    "### 자료구조\n",
    "\n",
    "### 리스트\n",
    "특징\n",
    "\n",
    "- 순서가 있는 데이터구조\n",
    "\n"
   ]
  },
  {
   "cell_type": "markdown",
   "id": "f4c8c9cd",
   "metadata": {},
   "source": []
  },
  {
   "cell_type": "code",
   "execution_count": 6,
   "id": "975f023c",
   "metadata": {},
   "outputs": [
    {
     "name": "stdout",
     "output_type": "stream",
     "text": [
      "[1, 2, 3, 4, 'hello']\n",
      "1\n",
      "[1, 2, 3, 4, 'hello', 4]\n"
     ]
    }
   ],
   "source": [
    "\n",
    "my_list = [1,2,3,4,'hello'] # 다른 자료형을 넣어도 상관 \n",
    "print(my_list)\n",
    "print(my_list[0]) #인덱스\n",
    "\n",
    "my_list.append(4) #점 찍으면 메소드(함수) // 형식 기억 .XXX()\n",
    "print(my_list)"
   ]
  },
  {
   "cell_type": "code",
   "execution_count": 8,
   "id": "d914b613",
   "metadata": {},
   "outputs": [
    {
     "name": "stdout",
     "output_type": "stream",
     "text": [
      "['바꿈', 2, 3, 4, 'hello', 4]\n"
     ]
    }
   ],
   "source": [
    "my_list[0] = '바꿈'\n",
    "print(my_list)"
   ]
  },
  {
   "cell_type": "markdown",
   "id": "9b55c52f",
   "metadata": {},
   "source": [
    "### 튜플 \n",
    "- 순서가 있는 데이터 구조 -> 인덱스 O\n",
    "- 불변적 -> 생성한 다음 수정 X"
   ]
  },
  {
   "cell_type": "code",
   "execution_count": null,
   "id": "4b3a72ec",
   "metadata": {},
   "outputs": [
    {
     "data": {
      "text/plain": [
       "4"
      ]
     },
     "execution_count": 7,
     "metadata": {},
     "output_type": "execute_result"
    }
   ],
   "source": [
    "tuple = (1,2,3,4,4) # 중복 허용 \n",
    "\n",
    "tuple[3]"
   ]
  },
  {
   "cell_type": "markdown",
   "id": "009b7920",
   "metadata": {},
   "source": [
    "### 딕셔너리 \n",
    "\n",
    "#key - value 쌍  \n",
    "- 값이 덮어짐\n",
    "- key는 중복 X\n"
   ]
  },
  {
   "cell_type": "code",
   "execution_count": 18,
   "id": "2c792cb7",
   "metadata": {},
   "outputs": [
    {
     "name": "stdout",
     "output_type": "stream",
     "text": [
      "박태근\n",
      "서울\n",
      "{'name': '박태근', 'age': 20, 'city': '서울', 'job': 'teacher'}\n"
     ]
    }
   ],
   "source": [
    "dict = {\n",
    "    'name':'박태근',\n",
    "    'age':20 ,\n",
    "    'city':'시흥'\n",
    "}\n",
    "\n",
    "print(dict['name'])\n",
    "dict['city'] = '서울'\n",
    "print(dict['city'])\n",
    "\n",
    "dict['job']='teacher'\n",
    "\n",
    "print(dict)\n"
   ]
  },
  {
   "cell_type": "code",
   "execution_count": 26,
   "id": "8c546680",
   "metadata": {},
   "outputs": [
    {
     "name": "stdout",
     "output_type": "stream",
     "text": [
      "[{'name': '박태근', 'age': 20, 'city': '서울', 'job': 'teacher'}, {'name': '박태근2', 'age': 202, 'city': '시흥2'}, {'name': '박태근3', 'age': 203, 'city': {'home': '시흥3'}}]\n"
     ]
    }
   ],
   "source": [
    "dict2 = {\n",
    "    'name':'박태근2',\n",
    "    'age':202 ,\n",
    "    'city':'시흥2'\n",
    "}\n",
    "\n",
    "dict3 = {\n",
    "    'name':'박태근3',\n",
    "    'age':203 ,\n",
    "    'city':{\n",
    "        'home':'시흥3'\n",
    "        }\n",
    "}\n",
    "\n",
    "dic_list = [dict, dict2, dict3]\n",
    "print(dic_list)\n",
    "\n"
   ]
  },
  {
   "cell_type": "markdown",
   "id": "34e930e9",
   "metadata": {},
   "source": [
    "### set\n",
    " - 중복 불허용"
   ]
  },
  {
   "cell_type": "code",
   "execution_count": 27,
   "id": "bfc8593f",
   "metadata": {},
   "outputs": [
    {
     "name": "stdout",
     "output_type": "stream",
     "text": [
      "{1, 2, 3, 4, 5}\n"
     ]
    }
   ],
   "source": [
    "set = {1,2,3,4,5,1}\n",
    "\n",
    "print(set)"
   ]
  },
  {
   "cell_type": "code",
   "execution_count": null,
   "id": "eadbad44",
   "metadata": {},
   "outputs": [],
   "source": []
  }
 ],
 "metadata": {
  "kernelspec": {
   "display_name": "HDWIA",
   "language": "python",
   "name": "python3"
  },
  "language_info": {
   "codemirror_mode": {
    "name": "ipython",
    "version": 3
   },
   "file_extension": ".py",
   "mimetype": "text/x-python",
   "name": "python",
   "nbconvert_exporter": "python",
   "pygments_lexer": "ipython3",
   "version": "3.12.12"
  }
 },
 "nbformat": 4,
 "nbformat_minor": 5
}
