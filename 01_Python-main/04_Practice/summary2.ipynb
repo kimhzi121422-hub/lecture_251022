{
 "cells": [
  {
   "cell_type": "markdown",
   "id": "c3be7ed0",
   "metadata": {},
   "source": [
    "### 조건문\n",
    "\n",
    "```\n",
    "\n",
    "if [조건식]:\n",
    "    [실행할 코드]\n",
    "elif[조건식]:\n",
    "    [첫번째 조건식이 False일때 실행 될 조건식]\n",
    "else:\n",
    "    [조건들에서 전부 false가 나왔을때 실행될 코드]\n",
    "\n",
    "```\n"
   ]
  },
  {
   "cell_type": "code",
   "execution_count": null,
   "id": "d75b1dce",
   "metadata": {},
   "outputs": [
    {
     "name": "stdout",
     "output_type": "stream",
     "text": [
      "적당하네요\n"
     ]
    }
   ],
   "source": [
    "score = 85\n",
    "\n",
    "if score > 85:\n",
    "    print('잘하셨습니다👍')\n",
    "elif score > 80:\n",
    "    print('적당하네요')\n",
    "else:\n",
    "    print('못하셨습니다😂')"
   ]
  },
  {
   "cell_type": "markdown",
   "id": "83611126",
   "metadata": {},
   "source": [
    "```\n",
    "match [비교할대상]:\n",
    "    case [비교할 값]:\n",
    "        [실행될 코드]\n",
    "    case [비교할 값]:\n",
    "        [실행될 코드]\n",
    "\n",
    "```"
   ]
  },
  {
   "cell_type": "code",
   "execution_count": null,
   "id": "6dbf0c36",
   "metadata": {},
   "outputs": [
    {
     "name": "stdout",
     "output_type": "stream",
     "text": [
      "수요일입니다\n"
     ]
    }
   ],
   "source": [
    "day = '수요일'\n",
    "\n",
    "match day:\n",
    "    case '월요일':\n",
    "        print('월요일입니다')\n",
    "    case '화요일':\n",
    "        print('화요일입니다')\n",
    "    case _:\n",
    "        print('수요일입니다')"
   ]
  },
  {
   "cell_type": "markdown",
   "id": "6c933441",
   "metadata": {},
   "source": [
    "for 문\n",
    "```\n",
    "for[변수] in [반복가능한 개체]:\n",
    "    [반복시킬 문장]\n",
    "\n",
    "\n",
    "```"
   ]
  },
  {
   "cell_type": "code",
   "execution_count": 2,
   "id": "36a5c9ba",
   "metadata": {},
   "outputs": [
    {
     "name": "stdout",
     "output_type": "stream",
     "text": [
      "num은 1입니다.\n",
      "num은 2입니다.\n",
      "num은 3입니다.\n",
      "num은 4입니다.\n",
      "num은 5입니다.\n",
      "--------------------------------------\n",
      "num은 0입니다.\n",
      "num은 1입니다.\n",
      "num은 2입니다.\n",
      "num은 3입니다.\n",
      "num은 4입니다.\n",
      "num은 5입니다.\n",
      "num은 6입니다.\n",
      "num은 7입니다.\n",
      "num은 8입니다.\n",
      "num은 9입니다.\n",
      "num은 10입니다.\n",
      "num은 11입니다.\n",
      "num은 12입니다.\n",
      "num은 13입니다.\n",
      "num은 14입니다.\n",
      "num은 15입니다.\n",
      "num은 16입니다.\n",
      "num은 17입니다.\n",
      "num은 18입니다.\n",
      "num은 19입니다.\n",
      "num은 20입니다.\n",
      "num은 21입니다.\n",
      "num은 22입니다.\n",
      "num은 23입니다.\n",
      "num은 24입니다.\n",
      "num은 25입니다.\n",
      "num은 26입니다.\n",
      "num은 27입니다.\n",
      "num은 28입니다.\n",
      "num은 29입니다.\n",
      "num은 30입니다.\n",
      "num은 31입니다.\n",
      "num은 32입니다.\n",
      "num은 33입니다.\n",
      "num은 34입니다.\n",
      "num은 35입니다.\n",
      "num은 36입니다.\n",
      "num은 37입니다.\n",
      "num은 38입니다.\n",
      "num은 39입니다.\n",
      "num은 40입니다.\n",
      "num은 41입니다.\n",
      "num은 42입니다.\n",
      "num은 43입니다.\n",
      "num은 44입니다.\n",
      "num은 45입니다.\n",
      "num은 46입니다.\n",
      "num은 47입니다.\n",
      "num은 48입니다.\n",
      "num은 49입니다.\n",
      "num은 50입니다.\n",
      "num은 51입니다.\n",
      "num은 52입니다.\n",
      "num은 53입니다.\n",
      "num은 54입니다.\n",
      "num은 55입니다.\n",
      "num은 56입니다.\n",
      "num은 57입니다.\n",
      "num은 58입니다.\n",
      "num은 59입니다.\n",
      "num은 60입니다.\n",
      "num은 61입니다.\n",
      "num은 62입니다.\n",
      "num은 63입니다.\n",
      "num은 64입니다.\n",
      "num은 65입니다.\n",
      "num은 66입니다.\n",
      "num은 67입니다.\n",
      "num은 68입니다.\n",
      "num은 69입니다.\n",
      "num은 70입니다.\n",
      "num은 71입니다.\n",
      "num은 72입니다.\n",
      "num은 73입니다.\n",
      "num은 74입니다.\n",
      "num은 75입니다.\n",
      "num은 76입니다.\n",
      "num은 77입니다.\n",
      "num은 78입니다.\n",
      "num은 79입니다.\n",
      "num은 80입니다.\n",
      "num은 81입니다.\n",
      "num은 82입니다.\n",
      "num은 83입니다.\n",
      "num은 84입니다.\n",
      "num은 85입니다.\n",
      "num은 86입니다.\n",
      "num은 87입니다.\n",
      "num은 88입니다.\n",
      "num은 89입니다.\n"
     ]
    }
   ],
   "source": [
    "list = [1,2,3,4,5]\n",
    "\n",
    "for num in list:\n",
    "    print(f'num은 {num}입니다.')\n",
    "\n",
    "print(f'--------------------------------------')\n",
    "    \n",
    "for num in range(90):\n",
    "    print(f'num은 {num}입니다.')"
   ]
  },
  {
   "cell_type": "markdown",
   "id": "d31d0cb0",
   "metadata": {},
   "source": [
    "```\n",
    "while [조건식]\n",
    "    [반복할 코드]\n",
    "````"
   ]
  },
  {
   "cell_type": "code",
   "execution_count": null,
   "id": "6fbc6b06",
   "metadata": {},
   "outputs": [],
   "source": [
    "count = 0\n",
    "\n",
    "while count < 3:\n",
    "    print(f'카운트 : (count)')\n",
    "\n",
    "count += 1\n",
    " \n",
    "if num = 5:\n",
    "    break"
   ]
  },
  {
   "cell_type": "code",
   "execution_count": 3,
   "id": "d0f972c8",
   "metadata": {},
   "outputs": [
    {
     "name": "stdout",
     "output_type": "stream",
     "text": [
      "입력하신 숫자는 3 입니다.\n",
      "3을 입력하셨으므로 이번 입력은 건너뜁니다.\n",
      "입력하신 숫자는 5 입니다.\n",
      "입력하신 숫자는 5 입니다.\n",
      "5를 입력하셨으므로 프로그램을 종료합니다.\n"
     ]
    }
   ],
   "source": [
    "count = 0\n",
    "\n",
    "while True:\n",
    "    num = input('숫자를 입력하세요') # 문자열값 그대로 사용\n",
    "\n",
    "    print(f'입력하신 숫자는 {num} 입니다.')\n",
    "\n",
    "    if num == '3':\n",
    "        print('3을 입력하셨으므로 이번 입력은 건너뜁니다.')\n",
    "        continue   # 아래 print()는 실행되지 않고 반복문의 처음으로 감\n",
    "\n",
    "    print(f'입력하신 숫자는 {num} 입니다.')\n",
    "\n",
    "    if num == '5':\n",
    "        print('5를 입력하셨으므로 프로그램을 종료합니다.')\n",
    "        break      # while문을 빠져나옴\n",
    "\n",
    "    count += 1     # 반복 횟수 증가(필요하면 사용)\n",
    "\n"
   ]
  },
  {
   "cell_type": "markdown",
   "id": "6ee5ab6b",
   "metadata": {},
   "source": []
  }
 ],
 "metadata": {
  "kernelspec": {
   "display_name": "HDWIA",
   "language": "python",
   "name": "python3"
  },
  "language_info": {
   "codemirror_mode": {
    "name": "ipython",
    "version": 3
   },
   "file_extension": ".py",
   "mimetype": "text/x-python",
   "name": "python",
   "nbconvert_exporter": "python",
   "pygments_lexer": "ipython3",
   "version": "3.12.12"
  }
 },
 "nbformat": 4,
 "nbformat_minor": 5
}
