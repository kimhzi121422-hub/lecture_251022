{
 "cells": [
  {
   "cell_type": "code",
   "execution_count": null,
   "id": "452ead21",
   "metadata": {},
   "outputs": [],
   "source": [
    "%pip install streamlit"
   ]
  },
  {
   "cell_type": "code",
   "execution_count": null,
   "id": "0f89b87f",
   "metadata": {},
   "outputs": [],
   "source": [
    "import streamlit\n",
    "print(streamlit.__version__)"
   ]
  },
  {
   "cell_type": "code",
   "execution_count": null,
   "id": "158ea12b",
   "metadata": {},
   "outputs": [],
   "source": []
  },
  {
   "cell_type": "code",
   "execution_count": null,
   "id": "371040e9",
   "metadata": {},
   "outputs": [],
   "source": []
  }
 ],
 "metadata": {
  "kernelspec": {
   "display_name": "HDWIA",
   "language": "python",
   "name": "python3"
  },
  "language_info": {
   "name": "python",
   "version": "3.12.12"
  }
 },
 "nbformat": 4,
 "nbformat_minor": 5
}
