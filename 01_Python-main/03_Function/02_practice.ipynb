{
 "cells": [
  {
   "cell_type": "markdown",
   "id": "8d8a2df1",
   "metadata": {},
   "source": [
    "### 나만의 계산기\n",
    "🥰🎇\n",
    "1. while 문 사용해서 무한반복\n",
    "2. 사용자의 입력으로 사용할 함수를 고른다\n"
   ]
  },
  {
   "cell_type": "code",
   "execution_count": null,
   "id": "2c8d819c",
   "metadata": {},
   "outputs": [],
   "source": [
    "def cal_sum(x, y):\n",
    "    return x + y\n",
    "def cal_sum2(x, y):\n",
    "    return x - y\n",
    "def cal_sum3(x, y):\n",
    "    return x * y\n",
    "def cal_sum4(x, y):\n",
    "    return x / y\n",
    "\n",
    "print(\"\"\"\n",
    "====================================\n",
    "🥰나만의 계산기에 오신 것을 환영합니다🎇\n",
    "\n",
    "사용 가능한 연산:\n",
    "1. 덧셈 (+)\n",
    "2. 뺄셈 (-)\n",
    "3. 곱셈 (*)\n",
    "4. 나눗셈(/)\n",
    "\n",
    "====================================\n",
    "\"\"\")\n",
    "\n",
    "while True:\n",
    "    cal = input(\"연산자와 숫자 2개를 띄어쓰기로 입력해주세요 (예: + 1.0 3.0)\\n종료하려면 q 입력: \").strip()\n",
    "    if cal.lower() == 'q':\n",
    "        print(\"계산기를 종료합니다.\")\n",
    "        break\n",
    "    try:\n",
    "        op, num1, num2 = cal.split()\n",
    "        x = float(num1)\n",
    "        y = float(num2)\n",
    "\n",
    "        if op == '+':\n",
    "            print(f\"{x} + {y} = {cal_sum(x, y)}\")\n",
    "        elif op == '-':\n",
    "            print(f\"{x} - {y} = {cal_sum2(x, y)}\")\n",
    "        elif op == '*':\n",
    "            print(f\"{x} * {y} = {cal_sum3(x, y)}\")\n",
    "        elif op == '/':\n",
    "            print(f\"{x} / {y} = {cal_sum4(x, y)}\")\n",
    "        else:\n",
    "            print(\"잘못된 연산자입니다. +, -, *, / 중 하나를 입력하세요.\")\n",
    "    except Exception:\n",
    "        print(\"입력 형식 오류! 예시처럼 입력해주세요: + 1.0 3.0\")"
   ]
  },
  {
   "cell_type": "code",
   "execution_count": null,
   "id": "11427921",
   "metadata": {},
   "outputs": [],
   "source": []
  }
 ],
 "metadata": {
  "kernelspec": {
   "display_name": "HDWIA",
   "language": "python",
   "name": "python3"
  },
  "language_info": {
   "name": "python",
   "version": "3.12.12"
  }
 },
 "nbformat": 4,
 "nbformat_minor": 5
}
